{
  "cells": [
    {
      "cell_type": "markdown",
      "metadata": {
        "id": "Jq6vBmV3tWEZ"
      },
      "source": [
        "<table align=\"center\" width=100%>\n",
        "    <tr>\n",
        "        <td width=\"15%\">\n",
        "            <img src=\"taxi.jpg\">\n",
        "        </td>\n",
        "        <td>\n",
        "            <div align=\"center\">\n",
        "                <font color=\"#21618C\" size=24px>\n",
        "                    <b>Taxi Fare Prediction\n",
        "                    </b>\n",
        "                </font>\n",
        "            </div>\n",
        "        </td>\n",
        "    </tr>\n",
        "</table>"
      ]
    },
    {
      "cell_type": "markdown",
      "metadata": {
        "id": "_7QX73d5tWEg"
      },
      "source": [
        "## Problem Statement\n",
        "\n",
        "This case study is to predict the taxi fare for a taxi ride in New York City from a given pickup point to the agreed dropoff location. Decision tree and Random Forest regressor is used for the fare prediction."
      ]
    },
    {
      "cell_type": "markdown",
      "metadata": {
        "id": "f_giQw6etWEh"
      },
      "source": [
        "## Data Definition\n",
        "\n",
        "**unique_id**: Unique identifier or key for each record in the dataset - (string)    \n",
        "\n",
        "**date_time_of_pickup**: time when the ride started - (timestamp)\n",
        "\n",
        "**longitude_of_pickup**: Longitude of the taxi ride pickup point - (float) - (Numerical) \n",
        " \n",
        "**latitude_of_pickup**: Latitude of the taxi ride pickup point - (float) - (Numerical)\n",
        "    \n",
        "**longitude__of_dropoff**: Longitude of the taxi ride dropoff point  - (float) - (Numerical)\n",
        "    \n",
        "**latitude_of_dropoff**: Latitude of the taxi ride dropoff point - (float) - (Numerical)\n",
        "    \n",
        "**no_of_passenger**: count of the passengers during the ride - (integer) - (Numerical)\n",
        "    \n",
        "**amount**: (target variable)dollar amount of the cost of the taxi ride\n",
        "   "
      ]
    },
    {
      "cell_type": "markdown",
      "metadata": {
        "id": "8VsUSDY0tWEj"
      },
      "source": [
        "## Icon Legends\n",
        "<table>\n",
        "  <tr>\n",
        "    <th width=\"25%\"> <img src=\"infer.png\" style=\"width:25%;\"></th>\n",
        "    <th width=\"25%\"> <img src=\"alsoreadicon.png\" style=\"width:25%;\"></th>\n",
        "    <th width=\"25%\"> <img src=\"todo.png\" style=\"width:25%;\"></th>\n",
        "    <th width=\"25%\"> <img src=\"quicktip.png\" style=\"width:25%;\"></th>\n",
        "  </tr>\n",
        "  <tr>\n",
        "    <td><div align=\"center\" style=\"font-size:120%\">\n",
        "        <font color=\"#21618C\"><b>Inferences from Outcome</b></font></div>\n",
        "    </td>\n",
        "    <td><div align=\"center\" style=\"font-size:120%\">\n",
        "        <font color=\"#21618C\"><b>Additional Reads</b></font></div>\n",
        "    </td>\n",
        "    <td><div align=\"center\" style=\"font-size:120%\">\n",
        "        <font color=\"#21618C\"><b>Lets do it</b></font></div>\n",
        "    </td>\n",
        "    <td><div align=\"center\" style=\"font-size:120%\">\n",
        "        <font color=\"#21618C\"><b>Quick Tips</b></font></div>\n",
        "    </td>\n",
        "\n",
        "</tr>\n",
        "\n",
        "</table>"
      ]
    },
    {
      "cell_type": "markdown",
      "metadata": {
        "id": "NRvFu_VqtWEk"
      },
      "source": [
        "## Table of Contents\n",
        "\n",
        "1. **[Import Libraries](#import_lib)**\n",
        "2. **[Set Options](#set_options)**\n",
        "3. **[Read Data](#Read_Data)**\n",
        "4. **[Prepare and Analyze the Data](#data_preparation)**\n",
        "    - 4.1 - [Understand the Data](#Data_Understanding)\n",
        "        - 4.1.1 - [Data Type](#Data_Types)\n",
        "        - 4.1.2 - [Feature Engineering](#Feature_Eng)\n",
        "        - 4.1.3 - [Summary Statistics](#Summary_Statistics)\n",
        "        - 4.1.4 - [Discover Outliers](#outlier)\n",
        "        - 4.1.5 - [Missing Values](#Missing_Values)\n",
        "        - 4.1.6 - [Correlation](#correlation)\n",
        "    - 4.2 - [Exploratory Data Analysis](#EDA)\n",
        "        - 4.2.1 - [Peak hours](#Peak)\n",
        "        - 4.2.2 - [Mean fare for each hour during weekdays and weekends](#Mean_Fare)\n",
        "        - 4.2.3 - [Distribution of key numerical variables](#Distribution)\n",
        "5. **[Random Forest](#Random_Forest)**\n",
        "    - 5.1 - [Random Forest Model](#RF_Model)\n",
        "    - 5.2 - [Random Forest with GridSearchCV ](#RF_CV)\n",
        "6. **[Conclusion and Interpretation](#conclusion)**"
      ]
    },
    {
      "cell_type": "markdown",
      "metadata": {
        "id": "dpJbBrwTtWEl"
      },
      "source": [
        "<a id='import_lib'></a>\n",
        "# 1. Import Libraries"
      ]
    },
    {
      "cell_type": "markdown",
      "metadata": {
        "id": "VXluA5N_tWEm"
      },
      "source": [
        "<table align=\"left\">\n",
        "    <tr>\n",
        "        <td width=\"8%\">\n",
        "            <img src=\"todo.png\">\n",
        "        </td>\n",
        "        <td>\n",
        "            <div align=\"left\", style=\"font-size:120%\">\n",
        "                <font color=\"#21618C\">\n",
        "                    <b>Let us import the required libraries and functions.</b> \n",
        "                </font>\n",
        "            </div>\n",
        "        </td>\n",
        "    </tr>\n",
        "</table>"
      ]
    },
    {
      "cell_type": "code",
      "execution_count": null,
      "metadata": {
        "id": "NqlykjYAtWEn"
      },
      "outputs": [],
      "source": [
        "# suppress warnings \n",
        "from warnings import filterwarnings\n",
        "filterwarnings('ignore')\n",
        "\n",
        "# 'Os' module provides functions for interacting with the operating system \n",
        "import os\n",
        "\n",
        "# 'Pandas' is used for data manipulation and analysis\n",
        "import pandas as pd \n",
        "\n",
        "# 'Numpy' is used for mathematical operations on large, multi-dimensional arrays and matrices\n",
        "import numpy as np\n",
        "\n",
        "# 'Matplotlib' is a data visualization library for 2D and 3D plots, built on numpy\n",
        "import matplotlib.pyplot as plt\n",
        "%matplotlib inline\n",
        "\n",
        "# 'Seaborn' is based on matplotlib; used for plotting statistical graphics\n",
        "import seaborn as sns\n",
        "\n",
        "from math import radians, cos, sin, sqrt, asin\n",
        "\n",
        "# 'Scikit-learn' (sklearn) emphasizes various regression, classification and clustering algorithms\n",
        "from sklearn.model_selection import train_test_split\n",
        "from sklearn import metrics\n",
        "from sklearn import preprocessing\n",
        "from sklearn.model_selection import GridSearchCV\n",
        "from sklearn.ensemble import RandomForestRegressor"
      ]
    },
    {
      "cell_type": "code",
      "execution_count": null,
      "metadata": {
        "id": "HoJiXwUdtWEq"
      },
      "outputs": [],
      "source": [
        "# set the plot size using 'rcParams'\n",
        "# once the plot size is set using 'rcParams', it sets the size of all the forthcoming plots in the file\n",
        "# pass width and height in inches to 'figure.figsize' \n",
        "plt.rcParams['figure.figsize'] = [15,8]"
      ]
    },
    {
      "cell_type": "markdown",
      "metadata": {
        "id": "d5X3thGEtWEr"
      },
      "source": [
        "<a id='set_options'></a>\n",
        "# 2. Set Options"
      ]
    },
    {
      "cell_type": "markdown",
      "metadata": {
        "id": "IS5cFzRDtWEr"
      },
      "source": [
        "<table align=\"left\">\n",
        "    <tr>\n",
        "        <td width=\"8%\">\n",
        "            <img src=\"todo.png\">\n",
        "        </td>\n",
        "        <td>\n",
        "            <div align=\"left\", style=\"font-size:120%\">\n",
        "                <font color=\"#21618C\">\n",
        "                    <b>Now we make necessary changes to :<br><br>\n",
        "1. Display complete dataframe<br>\n",
        "2. To set the decimal place of a numeric output to 6\n",
        "</b>\n",
        "                </font>\n",
        "            </div>\n",
        "        </td>\n",
        "    </tr>\n",
        "</table>"
      ]
    },
    {
      "cell_type": "code",
      "execution_count": null,
      "metadata": {
        "id": "zQOSjkVftWEs"
      },
      "outputs": [],
      "source": [
        "# display all columns of the dataframe\n",
        "pd.options.display.max_columns = None\n",
        "\n",
        "# display all rows of the dataframe\n",
        "pd.options.display.max_rows = None\n",
        "\n",
        "# returns an output value upto 6 decimals\n",
        "pd.options.display.float_format = '{:.6f}'.format"
      ]
    },
    {
      "cell_type": "code",
      "execution_count": null,
      "metadata": {
        "id": "lkLk6lqttWEs"
      },
      "outputs": [],
      "source": [
        "os.chdir(r\"E:\\Backup 14.03.2021\\Desktop\\Imarticus Post\\Online PGA 03\\Machine Learning\\Random Forest\")"
      ]
    },
    {
      "cell_type": "markdown",
      "metadata": {
        "id": "eIYdyqK_tWEt"
      },
      "source": [
        "<a id='Read_Data'></a>\n",
        "# 3. Read Data"
      ]
    },
    {
      "cell_type": "markdown",
      "metadata": {
        "id": "F0CUTf08tWEt"
      },
      "source": [
        "<table align=\"left\">\n",
        "    <tr>\n",
        "        <td width=\"8%\">\n",
        "            <img src=\"todo.png\">\n",
        "        </td>\n",
        "        <td>\n",
        "            <div align=\"left\", style=\"font-size:120%\">\n",
        "                <font color=\"#21618C\">\n",
        "                    <b>Read and display data to get insights from the data.\n",
        "                    </b> \n",
        "                </font>\n",
        "            </div>\n",
        "        </td>\n",
        "    </tr>\n",
        "</table>"
      ]
    },
    {
      "cell_type": "code",
      "execution_count": null,
      "metadata": {
        "id": "GERSG_5ztWEu",
        "outputId": "a66f09fd-b5a0-4604-8727-a681a0530c47"
      },
      "outputs": [
        {
          "data": {
            "text/html": [
              "<div>\n",
              "<style scoped>\n",
              "    .dataframe tbody tr th:only-of-type {\n",
              "        vertical-align: middle;\n",
              "    }\n",
              "\n",
              "    .dataframe tbody tr th {\n",
              "        vertical-align: top;\n",
              "    }\n",
              "\n",
              "    .dataframe thead th {\n",
              "        text-align: right;\n",
              "    }\n",
              "</style>\n",
              "<table border=\"1\" class=\"dataframe\">\n",
              "  <thead>\n",
              "    <tr style=\"text-align: right;\">\n",
              "      <th></th>\n",
              "      <th>unique_id</th>\n",
              "      <th>amount</th>\n",
              "      <th>date_time_of_pickup</th>\n",
              "      <th>longitude_of_pickup</th>\n",
              "      <th>latitude_of_pickup</th>\n",
              "      <th>longitude_of_dropoff</th>\n",
              "      <th>latitude_of_dropoff</th>\n",
              "      <th>no_of_passenger</th>\n",
              "    </tr>\n",
              "  </thead>\n",
              "  <tbody>\n",
              "    <tr>\n",
              "      <th>0</th>\n",
              "      <td>26:21.0</td>\n",
              "      <td>4.500000</td>\n",
              "      <td>2009-06-15 17:26:21 UTC</td>\n",
              "      <td>-73.844311</td>\n",
              "      <td>40.721319</td>\n",
              "      <td>-73.841610</td>\n",
              "      <td>40.712278</td>\n",
              "      <td>1</td>\n",
              "    </tr>\n",
              "    <tr>\n",
              "      <th>1</th>\n",
              "      <td>52:16.0</td>\n",
              "      <td>16.900000</td>\n",
              "      <td>2010-01-05 16:52:16 UTC</td>\n",
              "      <td>-74.016048</td>\n",
              "      <td>40.711303</td>\n",
              "      <td>-73.979268</td>\n",
              "      <td>40.782004</td>\n",
              "      <td>1</td>\n",
              "    </tr>\n",
              "    <tr>\n",
              "      <th>2</th>\n",
              "      <td>35:00.0</td>\n",
              "      <td>5.700000</td>\n",
              "      <td>2011-08-18 00:35:00 UTC</td>\n",
              "      <td>-73.982738</td>\n",
              "      <td>40.761270</td>\n",
              "      <td>-73.991242</td>\n",
              "      <td>40.750562</td>\n",
              "      <td>2</td>\n",
              "    </tr>\n",
              "    <tr>\n",
              "      <th>3</th>\n",
              "      <td>30:42.0</td>\n",
              "      <td>7.700000</td>\n",
              "      <td>2012-04-21 04:30:42 UTC</td>\n",
              "      <td>-73.987130</td>\n",
              "      <td>40.733143</td>\n",
              "      <td>-73.991567</td>\n",
              "      <td>40.758092</td>\n",
              "      <td>1</td>\n",
              "    </tr>\n",
              "    <tr>\n",
              "      <th>4</th>\n",
              "      <td>51:00.0</td>\n",
              "      <td>5.300000</td>\n",
              "      <td>2010-03-09 07:51:00 UTC</td>\n",
              "      <td>-73.968095</td>\n",
              "      <td>40.768008</td>\n",
              "      <td>-73.956655</td>\n",
              "      <td>40.783762</td>\n",
              "      <td>1</td>\n",
              "    </tr>\n",
              "  </tbody>\n",
              "</table>\n",
              "</div>"
            ],
            "text/plain": [
              "  unique_id    amount      date_time_of_pickup  longitude_of_pickup  \\\n",
              "0   26:21.0  4.500000  2009-06-15 17:26:21 UTC           -73.844311   \n",
              "1   52:16.0 16.900000  2010-01-05 16:52:16 UTC           -74.016048   \n",
              "2   35:00.0  5.700000  2011-08-18 00:35:00 UTC           -73.982738   \n",
              "3   30:42.0  7.700000  2012-04-21 04:30:42 UTC           -73.987130   \n",
              "4   51:00.0  5.300000  2010-03-09 07:51:00 UTC           -73.968095   \n",
              "\n",
              "   latitude_of_pickup  longitude_of_dropoff  latitude_of_dropoff  \\\n",
              "0           40.721319            -73.841610            40.712278   \n",
              "1           40.711303            -73.979268            40.782004   \n",
              "2           40.761270            -73.991242            40.750562   \n",
              "3           40.733143            -73.991567            40.758092   \n",
              "4           40.768008            -73.956655            40.783762   \n",
              "\n",
              "   no_of_passenger  \n",
              "0                1  \n",
              "1                1  \n",
              "2                2  \n",
              "3                1  \n",
              "4                1  "
            ]
          },
          "execution_count": 5,
          "metadata": {},
          "output_type": "execute_result"
        }
      ],
      "source": [
        "# read csv file using pandas\n",
        "df_taxi = pd.read_csv('TaxiFare.csv')\n",
        "\n",
        "# display the top 5 rows of the dataframe\n",
        "df_taxi.head()\n",
        "\n",
        "# Note: To display more rows, example 10, use head(10)"
      ]
    },
    {
      "cell_type": "markdown",
      "metadata": {
        "id": "80JONjoAtWEw"
      },
      "source": [
        "The column `unique_id` contains the unique identifier for each observation, which is redundant for further analysis. Thus, we drop this column."
      ]
    },
    {
      "cell_type": "code",
      "execution_count": null,
      "metadata": {
        "id": "CSffHWhxtWEx"
      },
      "outputs": [],
      "source": [
        "# drop the column 'Id' using drop()\n",
        "# 'axis = 1' drops the specified column\n",
        "df_taxi = df_taxi.drop('unique_id', axis = 1)"
      ]
    },
    {
      "cell_type": "markdown",
      "metadata": {
        "id": "WeU-8a_XtWEx"
      },
      "source": [
        "<a id='data_preparation'></a>\n",
        "# 4. Prepare and Analyze the Data"
      ]
    },
    {
      "cell_type": "markdown",
      "metadata": {
        "id": "X1f76QhCtWEy"
      },
      "source": [
        "<table align=\"left\">\n",
        "    <tr>\n",
        "        <td width=\"8%\">\n",
        "            <img src=\"todo.png\">\n",
        "        </td>\n",
        "        <td>\n",
        "            <div align=\"left\", style=\"font-size:120%\">\n",
        "                <font color=\"#21618C\">\n",
        "                    <b>Data preparation is the process of cleaning and transforming raw data before building predictive models. <br><br>\n",
        "                        Here we will analyze and prepare data to perform regression techniques:<br>\n",
        "                        1. Check dimensions of the dataframe in terms of rows and columns <br>\n",
        "                        2. Check the data types. If not as per business context, change the data types  <br>\n",
        "                        3. Study Summary Statistics <br>\n",
        "                        4. Distribution of Variables<br>\n",
        "                        5. Analyze relationship between numeric variables <br>\n",
        "                        6. Check for missing values<br>\n",
        "                        7. Study correlation<br>\n",
        "                        8. Analyze relationship between numeric and categoric variables <br><br>\n",
        "                        Note: It is an art to explore data and one will need more and more practice to gain expertise in this area. </b>\n",
        "                </font>\n",
        "            </div>\n",
        "        </td>\n",
        "    </tr>\n",
        "</table>"
      ]
    },
    {
      "cell_type": "markdown",
      "metadata": {
        "id": "okH3yf4ntWEz"
      },
      "source": [
        "<a id='Data_Understanding'></a>\n",
        "## 4.1 Understand the Data"
      ]
    },
    {
      "cell_type": "markdown",
      "metadata": {
        "id": "xq-DwG54tWE0"
      },
      "source": [
        "**Let us now see the number of variables and observations in the data.**"
      ]
    },
    {
      "cell_type": "code",
      "execution_count": null,
      "metadata": {
        "id": "tyUdAiKKtWE1",
        "outputId": "180fd847-2cfb-4462-9996-40790fab1d92"
      },
      "outputs": [
        {
          "data": {
            "text/plain": [
              "(50000, 7)"
            ]
          },
          "execution_count": 7,
          "metadata": {},
          "output_type": "execute_result"
        }
      ],
      "source": [
        "# 'shape' returns the dimensions of the data\n",
        "df_taxi.shape"
      ]
    },
    {
      "cell_type": "markdown",
      "metadata": {
        "id": "Zb0uP9lKtWE2"
      },
      "source": [
        "We see the dataframe has 7 columns and 50000 rows. It means there are 7 variables and 50000 observations."
      ]
    },
    {
      "cell_type": "markdown",
      "metadata": {
        "id": "TW2xBK53tWE3"
      },
      "source": [
        "<a id='Data_Types'></a>\n",
        "### 4.1.1 Data Type\n",
        "\n",
        "Data has a variety of data types. The main types stored in pandas dataframes are object, float, int64, bool and datetime64. In order to learn about each attribute, it is always good for us to know the data type of each column."
      ]
    },
    {
      "cell_type": "markdown",
      "metadata": {
        "id": "EpcRY-fAtWE3"
      },
      "source": [
        "<table align=\"left\">\n",
        "    <tr>\n",
        "        <td width=\"8%\">\n",
        "            <img src=\"todo.png\">\n",
        "        </td>\n",
        "        <td>\n",
        "            <div align=\"left\", style=\"font-size:120%\">\n",
        "                <font color=\"#21618C\">\n",
        "                    <b>In order to know whether the datatype aof each variable is correct, we do the following:<br><br>\n",
        "                        1. Check the data type <br>\n",
        "                        2. Change the incorrect data type <br>\n",
        "                        3. Recheck the data type after the conversion <br>\n",
        "                        4. Feature engineering <br>\n",
        "                        5. Drop the redundant variables <br>\n",
        "                       </b>\n",
        "                </font>\n",
        "            </div>\n",
        "        </td>\n",
        "    </tr>\n",
        "</table>"
      ]
    },
    {
      "cell_type": "markdown",
      "metadata": {
        "id": "EZPRAqFvtWE4"
      },
      "source": [
        "**1. Check the data type.**"
      ]
    },
    {
      "cell_type": "code",
      "execution_count": null,
      "metadata": {
        "id": "_JDZa_9itWE4",
        "outputId": "d220299d-15f2-48c6-ca08-19aaea248d93"
      },
      "outputs": [
        {
          "name": "stdout",
          "output_type": "stream",
          "text": [
            "<class 'pandas.core.frame.DataFrame'>\n",
            "RangeIndex: 50000 entries, 0 to 49999\n",
            "Data columns (total 7 columns):\n",
            " #   Column                Non-Null Count  Dtype  \n",
            "---  ------                --------------  -----  \n",
            " 0   amount                50000 non-null  float64\n",
            " 1   date_time_of_pickup   50000 non-null  object \n",
            " 2   longitude_of_pickup   50000 non-null  float64\n",
            " 3   latitude_of_pickup    50000 non-null  float64\n",
            " 4   longitude_of_dropoff  50000 non-null  float64\n",
            " 5   latitude_of_dropoff   50000 non-null  float64\n",
            " 6   no_of_passenger       50000 non-null  int64  \n",
            "dtypes: float64(5), int64(1), object(1)\n",
            "memory usage: 2.7+ MB\n"
          ]
        }
      ],
      "source": [
        "df_taxi.info()"
      ]
    },
    {
      "cell_type": "code",
      "execution_count": null,
      "metadata": {
        "id": "G7X3MTwNtWE4",
        "outputId": "522ffd87-621e-442b-9fbf-3984319b43af"
      },
      "outputs": [
        {
          "data": {
            "text/plain": [
              "amount                  float64\n",
              "date_time_of_pickup      object\n",
              "longitude_of_pickup     float64\n",
              "latitude_of_pickup      float64\n",
              "longitude_of_dropoff    float64\n",
              "latitude_of_dropoff     float64\n",
              "no_of_passenger           int64\n",
              "dtype: object"
            ]
          },
          "execution_count": 9,
          "metadata": {},
          "output_type": "execute_result"
        }
      ],
      "source": [
        "# use 'dtypes' to check the data type of each variable\n",
        "df_taxi.dtypes"
      ]
    },
    {
      "cell_type": "markdown",
      "metadata": {
        "id": "TZkHnUG3tWE5"
      },
      "source": [
        "<table align='left'>\n",
        "    <tr>\n",
        "        <td width='8%'>\n",
        "            <img src='infer.png'>\n",
        "        </td>\n",
        "        <td>\n",
        "            <div align='left', style='font-size:120%'>\n",
        "                <font color='#21618C'>\n",
        "                    <b>From the above output, we see that the data type of 'date_time_of_pickup' is 'object '.<br>\n",
        "\n",
        "But according to data definition, 'date_time_of_pickup 'is a date time stamp variable, which is wrongly interpreted as 'object', so we will convert this variable data type to 'datetime'.</br></b>\n",
        "                </font>\n",
        "            </div>\n",
        "        </td>\n",
        "    </tr>\n",
        "</table>\n",
        "\n",
        "\n"
      ]
    },
    {
      "cell_type": "markdown",
      "metadata": {
        "id": "kHmYlPObtWE5"
      },
      "source": [
        "**2. Change the incorrect data type.**"
      ]
    },
    {
      "cell_type": "code",
      "execution_count": null,
      "metadata": {
        "id": "NvekjfddtWE5"
      },
      "outputs": [],
      "source": [
        "# convert object to datetime using to_datetime method from pandas\n",
        "#if error is set to'coerce', then invalid parsing will be set as NaN\n",
        "#Using errors=’coerce’. It will replace all non-numeric values with NaN\n",
        "df_taxi.date_time_of_pickup = pd.to_datetime(df_taxi.date_time_of_pickup, errors='coerce')"
      ]
    },
    {
      "cell_type": "markdown",
      "metadata": {
        "id": "fiBUGaN6tWE6"
      },
      "source": [
        "**3. Recheck the data type after the conversion.**"
      ]
    },
    {
      "cell_type": "code",
      "execution_count": null,
      "metadata": {
        "id": "JCZqte9etWE6",
        "outputId": "8b096d22-a486-4140-abf7-3b6f1b7504cb"
      },
      "outputs": [
        {
          "data": {
            "text/plain": [
              "amount                              float64\n",
              "date_time_of_pickup     datetime64[ns, UTC]\n",
              "longitude_of_pickup                 float64\n",
              "latitude_of_pickup                  float64\n",
              "longitude_of_dropoff                float64\n",
              "latitude_of_dropoff                 float64\n",
              "no_of_passenger                       int64\n",
              "dtype: object"
            ]
          },
          "execution_count": 11,
          "metadata": {},
          "output_type": "execute_result"
        }
      ],
      "source": [
        "# recheck the data type of each column\n",
        "df_taxi.dtypes"
      ]
    },
    {
      "cell_type": "markdown",
      "metadata": {
        "id": "BqMewjIEtWE7"
      },
      "source": [
        "<table align=\"left\">\n",
        "    <tr>\n",
        "        <td width=\"8%\">\n",
        "           <img src=\"infer.png\">\n",
        "        </td>\n",
        "        <td>\n",
        "            <div align=\"left\", style=\"font-size:120%\">\n",
        "                <font color=\"#21618C\">\n",
        "                    <b>Now the data type of each variable is as per the data definition.</b>\n",
        "                </font>\n",
        "            </div>\n",
        "        </td>\n",
        "    </tr>\n",
        "</table>"
      ]
    },
    {
      "cell_type": "markdown",
      "metadata": {
        "id": "fU250EFZtWE7"
      },
      "source": [
        "<a id='Feature_Eng'></a>\n",
        "### 4.1.2 Feature Engineering\n",
        "\n",
        "We will extract date time features from the variable 'date_time_of_pickup'."
      ]
    },
    {
      "cell_type": "markdown",
      "metadata": {
        "id": "nBX06AAetWE7"
      },
      "source": [
        "<table align=\"left\">\n",
        "    <tr>\n",
        "        <td width=\"8%\">\n",
        "            <img src=\"todo.png\">\n",
        "        </td>\n",
        "        <td>\n",
        "            <div align=\"left\", style=\"font-size:120%\">\n",
        "                <font color=\"#21618C\">\n",
        "                    <b>For feature engineering, we do the following:<br><br>\n",
        "                        1. Feature addition <br>\n",
        "                        2. Drop the redundant variables <br>\n",
        "                       </b>\n",
        "                </font>\n",
        "            </div>\n",
        "        </td>\n",
        "    </tr>\n",
        "</table>"
      ]
    },
    {
      "cell_type": "markdown",
      "metadata": {
        "id": "qE0ToX9dtWE7"
      },
      "source": [
        "**1. Add new variables**"
      ]
    },
    {
      "cell_type": "markdown",
      "metadata": {
        "id": "svz9Ev9xtWE8"
      },
      "source": [
        "We will extract new features from variable `date_time_of_pickup` . We will also add a variable which measures the distance between the pickup and dropoff point."
      ]
    },
    {
      "cell_type": "code",
      "execution_count": null,
      "metadata": {
        "id": "-z3ndp64tWE8"
      },
      "outputs": [],
      "source": [
        "# extract various date time components as seperate variables\n",
        "#assign() method assign new columns to a DataFrame, returning a new object (a copy) with the new\n",
        "#columns added to the original ones. Existing columns that are re-assigned will be overwritten.\n",
        "#dt is default datetime module of python that helps extracting date and time componenets from a datetime feature \n",
        "df_taxi = df_taxi.assign(hour = df_taxi.date_time_of_pickup.dt.hour, \n",
        "                         day = df_taxi.date_time_of_pickup.dt.day,\n",
        "                        month = df_taxi.date_time_of_pickup.dt.month, \n",
        "                        year = df_taxi.date_time_of_pickup.dt.year, \n",
        "                        dayofweek = df_taxi.date_time_of_pickup.dt.dayofweek)"
      ]
    },
    {
      "cell_type": "markdown",
      "metadata": {
        "id": "450pXaLNtWE8"
      },
      "source": [
        "We will add a new variable which measures the distance between the pickup and dropoff point. We will use the Haversine formula to compute the distance between two points of the journey, using the logitude and latitude values. "
      ]
    },
    {
      "cell_type": "markdown",
      "metadata": {
        "id": "ZPbqpZbrtWE8"
      },
      "source": [
        "<table align=\"left\">\n",
        "    <tr>\n",
        "        <td width=\"8%\">\n",
        "            <img src=\"alsoreadicon.png\">\n",
        "        </td>\n",
        "        <td>\n",
        "            <div align=\"left\", style=\"font-size:120%\">\n",
        "                <font color=\"#21618C\">\n",
        "                    <b>I love to know more:  </b><a href=\"https://en.wikipedia.org/wiki/Haversine_formula\"> What is Haversine </a>\n",
        "</font>\n",
        "            </div>\n",
        "        </td>\n",
        "    </tr>\n",
        "</table>"
      ]
    },
    {
      "cell_type": "code",
      "execution_count": null,
      "metadata": {
        "id": "rFrC6-f8tWE9"
      },
      "outputs": [],
      "source": [
        "# function to calculate the travel distance from the longitudes and latitudes\n",
        "#The Haversine formula calculates the shortest distance between two points on a sphere using their\n",
        "#latitudes and longitudes measured along the surface. It is important for use in navigation.\n",
        "#where r is the radius of the earth(6371 km)\n",
        "def distance_transform(longitude1, latitude1, longitude2, latitude2):\n",
        "    travel_dist = []\n",
        "    \n",
        "    for pos in range(len(longitude1)):\n",
        "        long1,lati1,long2,lati2 = map(radians,[longitude1[pos],latitude1[pos],longitude2[pos],\n",
        "                                               latitude2[pos]])\n",
        "        dist_long = long2 - long1\n",
        "        dist_lati = lati2 - lati1\n",
        "        a = sin(dist_lati/2)**2 + cos(lati1) * cos(lati2) * sin(dist_long/2)**2\n",
        "        c = 2 * asin(sqrt(a))*6371\n",
        "        travel_dist.append(c)\n",
        "       \n",
        "    return travel_dist"
      ]
    },
    {
      "cell_type": "code",
      "execution_count": null,
      "metadata": {
        "id": "MzcJuSP4tWE9"
      },
      "outputs": [],
      "source": [
        "#Add a new variable travel distance\n",
        "#to_numpy(): Convert the DataFrame to a NumPy array\n",
        "\n",
        "df_taxi['travel_dist_km'] = distance_transform(df_taxi['longitude_of_pickup'].to_numpy(),\n",
        "                                                df_taxi['latitude_of_pickup'].to_numpy(),\n",
        "                                                df_taxi['longitude_of_dropoff'].to_numpy(),\n",
        "                                                df_taxi['latitude_of_dropoff'].to_numpy()\n",
        "                                              )"
      ]
    },
    {
      "cell_type": "code",
      "execution_count": null,
      "metadata": {
        "scrolled": true,
        "id": "PAGj9sM4tWE9",
        "outputId": "6b2ca7bd-f268-4e69-847d-549d32d2b4db"
      },
      "outputs": [
        {
          "data": {
            "text/html": [
              "<div>\n",
              "<style scoped>\n",
              "    .dataframe tbody tr th:only-of-type {\n",
              "        vertical-align: middle;\n",
              "    }\n",
              "\n",
              "    .dataframe tbody tr th {\n",
              "        vertical-align: top;\n",
              "    }\n",
              "\n",
              "    .dataframe thead th {\n",
              "        text-align: right;\n",
              "    }\n",
              "</style>\n",
              "<table border=\"1\" class=\"dataframe\">\n",
              "  <thead>\n",
              "    <tr style=\"text-align: right;\">\n",
              "      <th></th>\n",
              "      <th>amount</th>\n",
              "      <th>date_time_of_pickup</th>\n",
              "      <th>longitude_of_pickup</th>\n",
              "      <th>latitude_of_pickup</th>\n",
              "      <th>longitude_of_dropoff</th>\n",
              "      <th>latitude_of_dropoff</th>\n",
              "      <th>no_of_passenger</th>\n",
              "      <th>hour</th>\n",
              "      <th>day</th>\n",
              "      <th>month</th>\n",
              "      <th>year</th>\n",
              "      <th>dayofweek</th>\n",
              "      <th>travel_dist_km</th>\n",
              "    </tr>\n",
              "  </thead>\n",
              "  <tbody>\n",
              "    <tr>\n",
              "      <th>0</th>\n",
              "      <td>4.500000</td>\n",
              "      <td>2009-06-15 17:26:21+00:00</td>\n",
              "      <td>-73.844311</td>\n",
              "      <td>40.721319</td>\n",
              "      <td>-73.841610</td>\n",
              "      <td>40.712278</td>\n",
              "      <td>1</td>\n",
              "      <td>17</td>\n",
              "      <td>15</td>\n",
              "      <td>6</td>\n",
              "      <td>2009</td>\n",
              "      <td>0</td>\n",
              "      <td>1.030764</td>\n",
              "    </tr>\n",
              "    <tr>\n",
              "      <th>1</th>\n",
              "      <td>16.900000</td>\n",
              "      <td>2010-01-05 16:52:16+00:00</td>\n",
              "      <td>-74.016048</td>\n",
              "      <td>40.711303</td>\n",
              "      <td>-73.979268</td>\n",
              "      <td>40.782004</td>\n",
              "      <td>1</td>\n",
              "      <td>16</td>\n",
              "      <td>5</td>\n",
              "      <td>1</td>\n",
              "      <td>2010</td>\n",
              "      <td>1</td>\n",
              "      <td>8.450134</td>\n",
              "    </tr>\n",
              "    <tr>\n",
              "      <th>2</th>\n",
              "      <td>5.700000</td>\n",
              "      <td>2011-08-18 00:35:00+00:00</td>\n",
              "      <td>-73.982738</td>\n",
              "      <td>40.761270</td>\n",
              "      <td>-73.991242</td>\n",
              "      <td>40.750562</td>\n",
              "      <td>2</td>\n",
              "      <td>0</td>\n",
              "      <td>18</td>\n",
              "      <td>8</td>\n",
              "      <td>2011</td>\n",
              "      <td>3</td>\n",
              "      <td>1.389525</td>\n",
              "    </tr>\n",
              "    <tr>\n",
              "      <th>3</th>\n",
              "      <td>7.700000</td>\n",
              "      <td>2012-04-21 04:30:42+00:00</td>\n",
              "      <td>-73.987130</td>\n",
              "      <td>40.733143</td>\n",
              "      <td>-73.991567</td>\n",
              "      <td>40.758092</td>\n",
              "      <td>1</td>\n",
              "      <td>4</td>\n",
              "      <td>21</td>\n",
              "      <td>4</td>\n",
              "      <td>2012</td>\n",
              "      <td>5</td>\n",
              "      <td>2.799270</td>\n",
              "    </tr>\n",
              "    <tr>\n",
              "      <th>4</th>\n",
              "      <td>5.300000</td>\n",
              "      <td>2010-03-09 07:51:00+00:00</td>\n",
              "      <td>-73.968095</td>\n",
              "      <td>40.768008</td>\n",
              "      <td>-73.956655</td>\n",
              "      <td>40.783762</td>\n",
              "      <td>1</td>\n",
              "      <td>7</td>\n",
              "      <td>9</td>\n",
              "      <td>3</td>\n",
              "      <td>2010</td>\n",
              "      <td>1</td>\n",
              "      <td>1.999157</td>\n",
              "    </tr>\n",
              "  </tbody>\n",
              "</table>\n",
              "</div>"
            ],
            "text/plain": [
              "     amount       date_time_of_pickup  longitude_of_pickup  \\\n",
              "0  4.500000 2009-06-15 17:26:21+00:00           -73.844311   \n",
              "1 16.900000 2010-01-05 16:52:16+00:00           -74.016048   \n",
              "2  5.700000 2011-08-18 00:35:00+00:00           -73.982738   \n",
              "3  7.700000 2012-04-21 04:30:42+00:00           -73.987130   \n",
              "4  5.300000 2010-03-09 07:51:00+00:00           -73.968095   \n",
              "\n",
              "   latitude_of_pickup  longitude_of_dropoff  latitude_of_dropoff  \\\n",
              "0           40.721319            -73.841610            40.712278   \n",
              "1           40.711303            -73.979268            40.782004   \n",
              "2           40.761270            -73.991242            40.750562   \n",
              "3           40.733143            -73.991567            40.758092   \n",
              "4           40.768008            -73.956655            40.783762   \n",
              "\n",
              "   no_of_passenger  hour  day  month  year  dayofweek  travel_dist_km  \n",
              "0                1    17   15      6  2009          0        1.030764  \n",
              "1                1    16    5      1  2010          1        8.450134  \n",
              "2                2     0   18      8  2011          3        1.389525  \n",
              "3                1     4   21      4  2012          5        2.799270  \n",
              "4                1     7    9      3  2010          1        1.999157  "
            ]
          },
          "execution_count": 15,
          "metadata": {},
          "output_type": "execute_result"
        }
      ],
      "source": [
        "#Check the newly added vaiarbles\n",
        "df_taxi.head()"
      ]
    },
    {
      "cell_type": "markdown",
      "metadata": {
        "id": "cppg3EZWtWE9"
      },
      "source": [
        "**2. Drop the redundant variable.**"
      ]
    },
    {
      "cell_type": "markdown",
      "metadata": {
        "id": "df0R0bHutWE9"
      },
      "source": [
        "As we have extracted new features from variable `date_time_of_pickup` this variable is redundant for further analysis. Hence we drop this variable."
      ]
    },
    {
      "cell_type": "code",
      "execution_count": null,
      "metadata": {
        "id": "50bOzZcVtWE-"
      },
      "outputs": [],
      "source": [
        "# drop the column 'date_time_of_pickup' using drop()\n",
        "# 'axis = 1' drops the specified column\n",
        "\n",
        "df_taxi = df_taxi.drop('date_time_of_pickup',axis=1)"
      ]
    },
    {
      "cell_type": "code",
      "execution_count": null,
      "metadata": {
        "id": "4_PHO4KptWE-",
        "outputId": "230fd458-54f5-48d3-dfc0-3ec2affb300e"
      },
      "outputs": [
        {
          "name": "stdout",
          "output_type": "stream",
          "text": [
            "<class 'pandas.core.frame.DataFrame'>\n",
            "RangeIndex: 50000 entries, 0 to 49999\n",
            "Data columns (total 12 columns):\n",
            " #   Column                Non-Null Count  Dtype  \n",
            "---  ------                --------------  -----  \n",
            " 0   amount                50000 non-null  float64\n",
            " 1   longitude_of_pickup   50000 non-null  float64\n",
            " 2   latitude_of_pickup    50000 non-null  float64\n",
            " 3   longitude_of_dropoff  50000 non-null  float64\n",
            " 4   latitude_of_dropoff   50000 non-null  float64\n",
            " 5   no_of_passenger       50000 non-null  int64  \n",
            " 6   hour                  50000 non-null  int64  \n",
            " 7   day                   50000 non-null  int64  \n",
            " 8   month                 50000 non-null  int64  \n",
            " 9   year                  50000 non-null  int64  \n",
            " 10  dayofweek             50000 non-null  int64  \n",
            " 11  travel_dist_km        50000 non-null  float64\n",
            "dtypes: float64(6), int64(6)\n",
            "memory usage: 4.6 MB\n"
          ]
        }
      ],
      "source": [
        "df_taxi.info()"
      ]
    },
    {
      "cell_type": "markdown",
      "metadata": {
        "id": "bijfWMtztWE-"
      },
      "source": [
        "As now have the required features, after having extracted new ones and dropping the redundant variables."
      ]
    },
    {
      "cell_type": "markdown",
      "metadata": {
        "id": "EqaOmQKYtWE-"
      },
      "source": [
        "<a id='Summary_Statistics'></a>\n",
        "### 4.1.3 Summary Statistics\n",
        "\n",
        "Here we take a look at the summary of each attribute. This includes the count, mean, the minimum and maximum values as well as some percentiles for numeric variables and count, unique, top, frequency for other variable types."
      ]
    },
    {
      "cell_type": "markdown",
      "metadata": {
        "id": "6OrJiCkQtWE-"
      },
      "source": [
        "<table align=\"left\">\n",
        "    <tr>\n",
        "        <td width=\"8%\">\n",
        "            <img src=\"todo.png\">\n",
        "        </td>\n",
        "        <td>\n",
        "            <div align=\"left\", style=\"font-size:120%\">\n",
        "                <font color=\"#21618C\">\n",
        "                    <b> In our dataset we have both numerical and categorical variables. Now we check for summary statistics of all the variables<br><br>\n",
        "                        1. For numerical variables, use the describe()<br>\n",
        "                        2. For categorical variables use the describe(include='object')\n",
        "                    </b>\n",
        "                </font>\n",
        "            </div>\n",
        "        </td>\n",
        "    </tr>\n",
        "</table>"
      ]
    },
    {
      "cell_type": "markdown",
      "metadata": {
        "id": "AqqrW5u4tWE_"
      },
      "source": [
        "**1. For numerical variables, use the describe()**"
      ]
    },
    {
      "cell_type": "code",
      "execution_count": null,
      "metadata": {
        "id": "SSm6C1KEtWE_",
        "outputId": "5ea2eaa6-9f7b-48b6-a74c-bf7d8e889954"
      },
      "outputs": [
        {
          "data": {
            "text/html": [
              "<div>\n",
              "<style scoped>\n",
              "    .dataframe tbody tr th:only-of-type {\n",
              "        vertical-align: middle;\n",
              "    }\n",
              "\n",
              "    .dataframe tbody tr th {\n",
              "        vertical-align: top;\n",
              "    }\n",
              "\n",
              "    .dataframe thead th {\n",
              "        text-align: right;\n",
              "    }\n",
              "</style>\n",
              "<table border=\"1\" class=\"dataframe\">\n",
              "  <thead>\n",
              "    <tr style=\"text-align: right;\">\n",
              "      <th></th>\n",
              "      <th>count</th>\n",
              "      <th>mean</th>\n",
              "      <th>std</th>\n",
              "      <th>min</th>\n",
              "      <th>25%</th>\n",
              "      <th>50%</th>\n",
              "      <th>75%</th>\n",
              "      <th>max</th>\n",
              "    </tr>\n",
              "  </thead>\n",
              "  <tbody>\n",
              "    <tr>\n",
              "      <th>amount</th>\n",
              "      <td>50000.000000</td>\n",
              "      <td>11.364171</td>\n",
              "      <td>9.685557</td>\n",
              "      <td>-5.000000</td>\n",
              "      <td>6.000000</td>\n",
              "      <td>8.500000</td>\n",
              "      <td>12.500000</td>\n",
              "      <td>200.000000</td>\n",
              "    </tr>\n",
              "    <tr>\n",
              "      <th>longitude_of_pickup</th>\n",
              "      <td>50000.000000</td>\n",
              "      <td>-72.509756</td>\n",
              "      <td>10.393860</td>\n",
              "      <td>-75.423848</td>\n",
              "      <td>-73.992062</td>\n",
              "      <td>-73.981840</td>\n",
              "      <td>-73.967148</td>\n",
              "      <td>40.783472</td>\n",
              "    </tr>\n",
              "    <tr>\n",
              "      <th>latitude_of_pickup</th>\n",
              "      <td>50000.000000</td>\n",
              "      <td>39.933759</td>\n",
              "      <td>6.224857</td>\n",
              "      <td>-74.006893</td>\n",
              "      <td>40.734880</td>\n",
              "      <td>40.752678</td>\n",
              "      <td>40.767360</td>\n",
              "      <td>401.083332</td>\n",
              "    </tr>\n",
              "    <tr>\n",
              "      <th>longitude_of_dropoff</th>\n",
              "      <td>50000.000000</td>\n",
              "      <td>-72.504616</td>\n",
              "      <td>10.407570</td>\n",
              "      <td>-84.654241</td>\n",
              "      <td>-73.991152</td>\n",
              "      <td>-73.980082</td>\n",
              "      <td>-73.963584</td>\n",
              "      <td>40.851027</td>\n",
              "    </tr>\n",
              "    <tr>\n",
              "      <th>latitude_of_dropoff</th>\n",
              "      <td>50000.000000</td>\n",
              "      <td>39.926251</td>\n",
              "      <td>6.014737</td>\n",
              "      <td>-74.006377</td>\n",
              "      <td>40.734371</td>\n",
              "      <td>40.753372</td>\n",
              "      <td>40.768167</td>\n",
              "      <td>43.415190</td>\n",
              "    </tr>\n",
              "    <tr>\n",
              "      <th>no_of_passenger</th>\n",
              "      <td>50000.000000</td>\n",
              "      <td>1.667840</td>\n",
              "      <td>1.289195</td>\n",
              "      <td>0.000000</td>\n",
              "      <td>1.000000</td>\n",
              "      <td>1.000000</td>\n",
              "      <td>2.000000</td>\n",
              "      <td>6.000000</td>\n",
              "    </tr>\n",
              "    <tr>\n",
              "      <th>hour</th>\n",
              "      <td>50000.000000</td>\n",
              "      <td>13.489080</td>\n",
              "      <td>6.506935</td>\n",
              "      <td>0.000000</td>\n",
              "      <td>9.000000</td>\n",
              "      <td>14.000000</td>\n",
              "      <td>19.000000</td>\n",
              "      <td>23.000000</td>\n",
              "    </tr>\n",
              "    <tr>\n",
              "      <th>day</th>\n",
              "      <td>50000.000000</td>\n",
              "      <td>15.672040</td>\n",
              "      <td>8.660789</td>\n",
              "      <td>1.000000</td>\n",
              "      <td>8.000000</td>\n",
              "      <td>16.000000</td>\n",
              "      <td>23.000000</td>\n",
              "      <td>31.000000</td>\n",
              "    </tr>\n",
              "    <tr>\n",
              "      <th>month</th>\n",
              "      <td>50000.000000</td>\n",
              "      <td>6.273300</td>\n",
              "      <td>3.461157</td>\n",
              "      <td>1.000000</td>\n",
              "      <td>3.000000</td>\n",
              "      <td>6.000000</td>\n",
              "      <td>9.000000</td>\n",
              "      <td>12.000000</td>\n",
              "    </tr>\n",
              "    <tr>\n",
              "      <th>year</th>\n",
              "      <td>50000.000000</td>\n",
              "      <td>2011.739260</td>\n",
              "      <td>1.862639</td>\n",
              "      <td>2009.000000</td>\n",
              "      <td>2010.000000</td>\n",
              "      <td>2012.000000</td>\n",
              "      <td>2013.000000</td>\n",
              "      <td>2015.000000</td>\n",
              "    </tr>\n",
              "    <tr>\n",
              "      <th>dayofweek</th>\n",
              "      <td>50000.000000</td>\n",
              "      <td>3.029980</td>\n",
              "      <td>1.956936</td>\n",
              "      <td>0.000000</td>\n",
              "      <td>1.000000</td>\n",
              "      <td>3.000000</td>\n",
              "      <td>5.000000</td>\n",
              "      <td>6.000000</td>\n",
              "    </tr>\n",
              "    <tr>\n",
              "      <th>travel_dist_km</th>\n",
              "      <td>50000.000000</td>\n",
              "      <td>18.508946</td>\n",
              "      <td>355.564309</td>\n",
              "      <td>0.000000</td>\n",
              "      <td>1.223146</td>\n",
              "      <td>2.120114</td>\n",
              "      <td>3.895570</td>\n",
              "      <td>8667.818812</td>\n",
              "    </tr>\n",
              "  </tbody>\n",
              "</table>\n",
              "</div>"
            ],
            "text/plain": [
              "                            count        mean        std         min  \\\n",
              "amount               50000.000000   11.364171   9.685557   -5.000000   \n",
              "longitude_of_pickup  50000.000000  -72.509756  10.393860  -75.423848   \n",
              "latitude_of_pickup   50000.000000   39.933759   6.224857  -74.006893   \n",
              "longitude_of_dropoff 50000.000000  -72.504616  10.407570  -84.654241   \n",
              "latitude_of_dropoff  50000.000000   39.926251   6.014737  -74.006377   \n",
              "no_of_passenger      50000.000000    1.667840   1.289195    0.000000   \n",
              "hour                 50000.000000   13.489080   6.506935    0.000000   \n",
              "day                  50000.000000   15.672040   8.660789    1.000000   \n",
              "month                50000.000000    6.273300   3.461157    1.000000   \n",
              "year                 50000.000000 2011.739260   1.862639 2009.000000   \n",
              "dayofweek            50000.000000    3.029980   1.956936    0.000000   \n",
              "travel_dist_km       50000.000000   18.508946 355.564309    0.000000   \n",
              "\n",
              "                             25%         50%         75%         max  \n",
              "amount                  6.000000    8.500000   12.500000  200.000000  \n",
              "longitude_of_pickup   -73.992062  -73.981840  -73.967148   40.783472  \n",
              "latitude_of_pickup     40.734880   40.752678   40.767360  401.083332  \n",
              "longitude_of_dropoff  -73.991152  -73.980082  -73.963584   40.851027  \n",
              "latitude_of_dropoff    40.734371   40.753372   40.768167   43.415190  \n",
              "no_of_passenger         1.000000    1.000000    2.000000    6.000000  \n",
              "hour                    9.000000   14.000000   19.000000   23.000000  \n",
              "day                     8.000000   16.000000   23.000000   31.000000  \n",
              "month                   3.000000    6.000000    9.000000   12.000000  \n",
              "year                 2010.000000 2012.000000 2013.000000 2015.000000  \n",
              "dayofweek               1.000000    3.000000    5.000000    6.000000  \n",
              "travel_dist_km          1.223146    2.120114    3.895570 8667.818812  "
            ]
          },
          "execution_count": 18,
          "metadata": {},
          "output_type": "execute_result"
        }
      ],
      "source": [
        "# the describe() returns the statistical summary of the variables\n",
        "# by default, it returns the summary of numerical variables\n",
        "# use .transpose() for better readability. However it is optional\n",
        "df_taxi.describe().T"
      ]
    },
    {
      "cell_type": "markdown",
      "metadata": {
        "id": "YnUCm0h0tWE_"
      },
      "source": [
        "<table align=\"left\">\n",
        "    <tr>\n",
        "        <td width=\"8%\">\n",
        "            <img src=\"infer.png\">\n",
        "        </td>\n",
        "        <td>\n",
        "            <div align=\"left\", style=\"font-size:120%\">\n",
        "                <font color=\"#21618C\">\n",
        "<b>The above output illustrates the summary statistics of all the numeric variables like mean, median (50%), standard deviation, minimum, and maximum values, along with the first and third quantiles.<br><br> \n",
        " <br><br>Note that the minimum amount is -5 and maximum is 200. Ideally fare amount should not be less that 2.5 dollars, which is the minimum value set for fares in NYC. Also the minimum count of passengers is 0, which isn't a practical scenario. We will deal with such values as we progress the case study.\n",
        "    </b>     </font>\n",
        "            </div>\n",
        "        </td>\n",
        "    </tr>\n",
        "</table>"
      ]
    },
    {
      "cell_type": "markdown",
      "metadata": {
        "id": "p2kizT12tWE_"
      },
      "source": [
        "**2. For categorical variables, use the describe(include='object').**"
      ]
    },
    {
      "cell_type": "markdown",
      "metadata": {
        "id": "L346UwggtWE_"
      },
      "source": [
        "As, there are no categorical varaibles, we skip this step."
      ]
    },
    {
      "cell_type": "markdown",
      "metadata": {
        "id": "H-TVNImdtWFA"
      },
      "source": [
        "<a id='outlier'></a>\n",
        "### 4.1.4 Discover Outliers"
      ]
    },
    {
      "cell_type": "markdown",
      "metadata": {
        "id": "rv_JBRXxeboi"
      },
      "source": [
        "#### Importance of detecting an outlier\n",
        "An outlier is an observation that appears to deviate distinctly from other observations in the data. If the outliers are not removed, the model accuracy may decrease.\n",
        "Let us detect the extreme values in the data. \n",
        "\n",
        "\n",
        "The following can be considered as outliers in this case study:\n",
        "1. Amount < 2.5\n",
        "2. Trips with travel distance less than or equal to 0, and more than 130Kms\n",
        "3. Trips where 90< latitude <-90, 180 < longitude < -180                     "
      ]
    },
    {
      "cell_type": "markdown",
      "metadata": {
        "id": "dx5mGHT5tWFA"
      },
      "source": [
        "1. We have seen that there are instances of amount less that 0 as well in the data set, where as the minimum fare for any trip in NYC is 2.5 dollars, hence we will remove such observations. We have already seen that the max fare is 200 in the data set."
      ]
    },
    {
      "cell_type": "code",
      "execution_count": null,
      "metadata": {
        "id": "-GND681QtWFB"
      },
      "outputs": [],
      "source": [
        "#We will only keep the observation where fare is at least 2.5\n",
        "df_taxi = df_taxi.loc[(df_taxi.amount >= 2.5)]"
      ]
    },
    {
      "cell_type": "code",
      "execution_count": null,
      "metadata": {
        "id": "9B4eKBp5tWFB",
        "outputId": "0ef3f943-eb18-45ed-fadf-cc408d38585d"
      },
      "outputs": [
        {
          "name": "stdout",
          "output_type": "stream",
          "text": [
            "Remaining observastions in the dataset: (49990, 12)\n"
          ]
        }
      ],
      "source": [
        "print(\"Remaining observastions in the dataset:\", df_taxi.shape)"
      ]
    },
    {
      "cell_type": "markdown",
      "metadata": {
        "id": "VkW19EkCtWFC"
      },
      "source": [
        "2. Remove the observations with travel distance more than 130 kms.As seen from descriptive stats there are obs with tarvel distance more than 130 km, as that is the limit for trips in and around NYC"
      ]
    },
    {
      "cell_type": "code",
      "execution_count": null,
      "metadata": {
        "id": "uSzqpYdStWFC",
        "outputId": "cc50dfe7-73ca-45b3-fc63-b02ef007d185"
      },
      "outputs": [
        {
          "name": "stdout",
          "output_type": "stream",
          "text": [
            "Remaining observastions in the dataset: (49990, 12)\n"
          ]
        }
      ],
      "source": [
        "#We will only keep the observation where travel distance is less than or equal to 130\n",
        "df_taxi = df_taxi.loc[(df_taxi.travel_dist_km >= 1) | (df_taxi.travel_dist_km <= 130)]\n",
        "print(\"Remaining observastions in the dataset:\", df_taxi.shape)"
      ]
    },
    {
      "cell_type": "markdown",
      "metadata": {
        "id": "RZ4A5tlMtWFC"
      },
      "source": [
        "3. Remove the observations with unreal longitude and latitude values , that is , 90< latitude <-90, 180 < longitude < -180."
      ]
    },
    {
      "cell_type": "code",
      "execution_count": null,
      "metadata": {
        "id": "-502m_jrtWFD"
      },
      "outputs": [],
      "source": [
        "incorrect_coordinates = df_taxi.loc[(df_taxi.latitude_of_pickup > 90) |(df_taxi.latitude_of_pickup < -90) |\n",
        "                                   (df_taxi.latitude_of_dropoff > 90) |(df_taxi.latitude_of_dropoff < -90) |\n",
        "                                   (df_taxi.longitude_of_pickup > 180) |(df_taxi.longitude_of_pickup < -180) |\n",
        "                                   (df_taxi.longitude_of_dropoff > 90) |(df_taxi.longitude_of_dropoff < -90)\n",
        "                                    ].index"
      ]
    },
    {
      "cell_type": "code",
      "execution_count": null,
      "metadata": {
        "id": "Gag7NBmftWFD"
      },
      "outputs": [],
      "source": [
        "df_taxi.drop(incorrect_coordinates, inplace = True, errors = 'ignore')"
      ]
    },
    {
      "cell_type": "code",
      "execution_count": null,
      "metadata": {
        "id": "uWH7msxGtWFD",
        "outputId": "b2f3d406-2699-44a3-8456-f27f1c14f1f3"
      },
      "outputs": [
        {
          "name": "stdout",
          "output_type": "stream",
          "text": [
            "Remaining observastions in the dataset: (49989, 12)\n"
          ]
        }
      ],
      "source": [
        "print(\"Remaining observastions in the dataset:\", df_taxi.shape)"
      ]
    },
    {
      "cell_type": "markdown",
      "metadata": {
        "id": "FCfjEaU1tWFD"
      },
      "source": [
        "<table align=\"left\">\n",
        "    <tr>\n",
        "        <td width=\"8%\">\n",
        "            <img src=\"infer.png\">\n",
        "        </td>\n",
        "        <td>\n",
        "            <div align=\"left\", style=\"font-size:120%\">\n",
        "                <font color=\"#21618C\">\n",
        "                    <b> The number of observations is reduced to 49989 from 50000 which suggests that we have removed the observations with extreme or immpractical values.\n",
        "                    </b>   \n",
        "                </font>\n",
        "            </div>\n",
        "        </td>\n",
        "    </tr>\n",
        "</table>\n",
        "\n"
      ]
    },
    {
      "cell_type": "markdown",
      "metadata": {
        "id": "BudwXJ6Kebou"
      },
      "source": [
        "<table align=\"left\">\n",
        "    <tr>\n",
        "        <td width=\"8%\">\n",
        "            <img src=\"alsoreadicon.png\">\n",
        "        </td>\n",
        "        <td>\n",
        "            <div align=\"left\", style=\"font-size:120%\">\n",
        "                <font color=\"#21618C\">\n",
        "                    <b>I love to know more:  </b><a href=\"https://bit.ly/33bgNpq\">How to use statistics to identify outliers in data</a>\n",
        "</font>\n",
        "            </div>\n",
        "        </td>\n",
        "    </tr>\n",
        "</table>"
      ]
    },
    {
      "cell_type": "markdown",
      "metadata": {
        "id": "RJ7m5skMtWFE"
      },
      "source": [
        "<a id='Missing_Values'></a>\n",
        "### 4.1.5 Missing Values\n",
        "\n",
        "If the missing values are not handled properly we may end up drawing an inaccurate inference about the data."
      ]
    },
    {
      "cell_type": "markdown",
      "metadata": {
        "id": "K53sXxAKtWFE"
      },
      "source": [
        "<table align=\"left\">\n",
        "    <tr>\n",
        "        <td width=\"8%\">\n",
        "            <img src=\"todo.png\">\n",
        "        </td>\n",
        "        <td>\n",
        "            <div align=\"left\", style=\"font-size:120%\">\n",
        "                <font color=\"#21618C\">\n",
        "                    <b>In order to get the count of missing values in each column.<br><br>\n",
        "                        <ol type=\"1\"><li>Check the missing values</li>\n",
        "                            <li>Visualize missing values using heatmap</li>\n",
        "                            <li>Handle missing values\n",
        "                            <ul type=\"i\">\n",
        "                                <li>For numeric variables</li>\n",
        "                                <li> For categoric variables</li>\n",
        "                            </ul>\n",
        "                        </ol>  </b>\n",
        "                </font>\n",
        "            </div>\n",
        "        </td>\n",
        "    </tr>\n",
        "</table>"
      ]
    },
    {
      "cell_type": "markdown",
      "metadata": {
        "id": "jHXtJlnhtWFE"
      },
      "source": [
        "**1. Check the missing values**"
      ]
    },
    {
      "cell_type": "code",
      "execution_count": null,
      "metadata": {
        "id": "u7dGJxs_tWFF",
        "outputId": "3adb768d-31d6-425a-f28e-ef146513709a"
      },
      "outputs": [
        {
          "data": {
            "text/html": [
              "<div>\n",
              "<style scoped>\n",
              "    .dataframe tbody tr th:only-of-type {\n",
              "        vertical-align: middle;\n",
              "    }\n",
              "\n",
              "    .dataframe tbody tr th {\n",
              "        vertical-align: top;\n",
              "    }\n",
              "\n",
              "    .dataframe thead th {\n",
              "        text-align: right;\n",
              "    }\n",
              "</style>\n",
              "<table border=\"1\" class=\"dataframe\">\n",
              "  <thead>\n",
              "    <tr style=\"text-align: right;\">\n",
              "      <th></th>\n",
              "      <th>Total</th>\n",
              "      <th>Percentage of Missing Values</th>\n",
              "      <th>Type</th>\n",
              "    </tr>\n",
              "  </thead>\n",
              "  <tbody>\n",
              "    <tr>\n",
              "      <th>travel_dist_km</th>\n",
              "      <td>0</td>\n",
              "      <td>0.000000</td>\n",
              "      <td>float64</td>\n",
              "    </tr>\n",
              "    <tr>\n",
              "      <th>dayofweek</th>\n",
              "      <td>0</td>\n",
              "      <td>0.000000</td>\n",
              "      <td>int64</td>\n",
              "    </tr>\n",
              "    <tr>\n",
              "      <th>year</th>\n",
              "      <td>0</td>\n",
              "      <td>0.000000</td>\n",
              "      <td>int64</td>\n",
              "    </tr>\n",
              "    <tr>\n",
              "      <th>month</th>\n",
              "      <td>0</td>\n",
              "      <td>0.000000</td>\n",
              "      <td>int64</td>\n",
              "    </tr>\n",
              "    <tr>\n",
              "      <th>day</th>\n",
              "      <td>0</td>\n",
              "      <td>0.000000</td>\n",
              "      <td>int64</td>\n",
              "    </tr>\n",
              "    <tr>\n",
              "      <th>hour</th>\n",
              "      <td>0</td>\n",
              "      <td>0.000000</td>\n",
              "      <td>int64</td>\n",
              "    </tr>\n",
              "    <tr>\n",
              "      <th>no_of_passenger</th>\n",
              "      <td>0</td>\n",
              "      <td>0.000000</td>\n",
              "      <td>int64</td>\n",
              "    </tr>\n",
              "    <tr>\n",
              "      <th>latitude_of_dropoff</th>\n",
              "      <td>0</td>\n",
              "      <td>0.000000</td>\n",
              "      <td>float64</td>\n",
              "    </tr>\n",
              "    <tr>\n",
              "      <th>longitude_of_dropoff</th>\n",
              "      <td>0</td>\n",
              "      <td>0.000000</td>\n",
              "      <td>float64</td>\n",
              "    </tr>\n",
              "    <tr>\n",
              "      <th>latitude_of_pickup</th>\n",
              "      <td>0</td>\n",
              "      <td>0.000000</td>\n",
              "      <td>float64</td>\n",
              "    </tr>\n",
              "    <tr>\n",
              "      <th>longitude_of_pickup</th>\n",
              "      <td>0</td>\n",
              "      <td>0.000000</td>\n",
              "      <td>float64</td>\n",
              "    </tr>\n",
              "    <tr>\n",
              "      <th>amount</th>\n",
              "      <td>0</td>\n",
              "      <td>0.000000</td>\n",
              "      <td>float64</td>\n",
              "    </tr>\n",
              "  </tbody>\n",
              "</table>\n",
              "</div>"
            ],
            "text/plain": [
              "                      Total  Percentage of Missing Values     Type\n",
              "travel_dist_km            0                      0.000000  float64\n",
              "dayofweek                 0                      0.000000    int64\n",
              "year                      0                      0.000000    int64\n",
              "month                     0                      0.000000    int64\n",
              "day                       0                      0.000000    int64\n",
              "hour                      0                      0.000000    int64\n",
              "no_of_passenger           0                      0.000000    int64\n",
              "latitude_of_dropoff       0                      0.000000  float64\n",
              "longitude_of_dropoff      0                      0.000000  float64\n",
              "latitude_of_pickup        0                      0.000000  float64\n",
              "longitude_of_pickup       0                      0.000000  float64\n",
              "amount                    0                      0.000000  float64"
            ]
          },
          "execution_count": 25,
          "metadata": {},
          "output_type": "execute_result"
        }
      ],
      "source": [
        "# sort the variables on the basis of total null values in the variable\n",
        "# 'isnull().sum()' returns the number of missing values in each variable\n",
        "# 'ascending = False' sorts values in the descending order\n",
        "# the variable with highest number of missing values will appear first\n",
        "Total = df_taxi.isnull().sum().sort_values(ascending = False)          \n",
        "\n",
        "# calculate the percentage of missing values\n",
        "# 'ascending = False' sorts values in the descending order\n",
        "# the variable with highest percentage of missing values will appear first\n",
        "Percent = (df_taxi.isnull().sum()*100/df_taxi.isnull().count()).sort_values(ascending = False)   \n",
        "\n",
        "# concat the 'Total' and 'Percent' columns using 'concat' function\n",
        "# 'keys' is the list of column names\n",
        "# 'axis = 1' concats along the columns\n",
        "missing_data = pd.concat([Total, Percent], axis = 1, keys = ['Total', 'Percentage of Missing Values'])    \n",
        "\n",
        "# add the column containing data type of each variable\n",
        "missing_data['Type'] = df_taxi[missing_data.index].dtypes\n",
        "missing_data"
      ]
    },
    {
      "cell_type": "markdown",
      "metadata": {
        "id": "To6rfsZAtWFF"
      },
      "source": [
        "<table align=\"left\">\n",
        "    <tr>\n",
        "        <td width=\"8%\">\n",
        "            <img src=\"infer.png\">\n",
        "        </td>\n",
        "        <td>\n",
        "            <div align=\"left\", style=\"font-size:120%\">\n",
        "                <font color=\"#21618C\">\n",
        "                    <b>None of the variables contain missing values.</b>\n",
        "                </font>\n",
        "            </div>\n",
        "        </td>\n",
        "    </tr>\n",
        "</table>"
      ]
    },
    {
      "cell_type": "markdown",
      "metadata": {
        "id": "DAaik4Y8tWFG"
      },
      "source": [
        "**2. Visualize missing values using heatmap**"
      ]
    },
    {
      "cell_type": "code",
      "execution_count": null,
      "metadata": {
        "scrolled": false,
        "id": "TUEXkWv2tWFG",
        "outputId": "442f9cab-010e-4645-8faf-2f26e216f169"
      },
      "outputs": [
        {
          "data": {
            "image/png": "[encoded data removed]",
            "text/plain": [
              "<Figure size 1080x576 with 1 Axes>"
            ]
          },
          "metadata": {
            "needs_background": "light"
          },
          "output_type": "display_data"
        }
      ],
      "source": [
        "# plot heatmap to visualize the null values in each column\n",
        "# 'cbar = False' does not show the color axis \n",
        "sns.heatmap(df_taxi.isnull(), cbar=False)\n",
        "\n",
        "# display the plot\n",
        "plt.show()"
      ]
    },
    {
      "cell_type": "markdown",
      "metadata": {
        "id": "OGYi0wTHtWFG"
      },
      "source": [
        "If there are missing values in a dataset then the horizontal lines in the heatmap correspond to the missing values. Since there are no missing values here there are no horizontal lines corresponding to them."
      ]
    },
    {
      "cell_type": "markdown",
      "metadata": {
        "id": "Dogz55FZeboP"
      },
      "source": [
        "<table align=\"left\">\n",
        "    <tr>\n",
        "        <td width=\"8%\">\n",
        "            <img src=\"infer.png\">\n",
        "        </td>\n",
        "        <td>\n",
        "            <div align=\"left\", style=\"font-size:120%\">\n",
        "                <font color=\"#21618C\">\n",
        "                    <b> The above plot shows that there are no missing values in the data.</b>\n",
        "                </font>\n",
        "            </div>\n",
        "        </td>\n",
        "    </tr>\n",
        "</table>"
      ]
    },
    {
      "cell_type": "markdown",
      "metadata": {
        "id": "2dEnvkjWtWFG"
      },
      "source": [
        "<a id='correlation'></a>\n",
        "### 4.1.6 Study correlation"
      ]
    },
    {
      "cell_type": "markdown",
      "metadata": {
        "id": "K_oo8YEAeboS"
      },
      "source": [
        "Correlation is a statistic that measures the degree to which two variables move with each other. A correlation coefficient near  1  indicates the strong relationship between them; a weak correlation indicates the extent to which one variable increases as the other decreases. Correlation among multiple variables can be represented in the form of a matrix. This allows us to see which variables are correlated."
      ]
    },
    {
      "cell_type": "markdown",
      "metadata": {
        "id": "sAagGX-keboT"
      },
      "source": [
        "<table align=\"left\">\n",
        "    <tr>\n",
        "        <td width=\"8%\">\n",
        "            <img src=\"todo.png\">\n",
        "        </td>\n",
        "        <td>\n",
        "            <div align=\"left\", style=\"font-size:120%\">\n",
        "                <font color=\"#21618C\">\n",
        "                    <b> To check the correlation between numerical variables, we perform the following steps:<br><br>\n",
        "                    1. Compute a correlation matrix  <br>\n",
        "                    2. Plot a heatmap for the correlation matrix\n",
        "                    </b>\n",
        "                </font>\n",
        "            </div>\n",
        "        </td>\n",
        "    </tr>\n",
        "</table>"
      ]
    },
    {
      "cell_type": "markdown",
      "metadata": {
        "id": "LJHGcOp7tWFH"
      },
      "source": [
        "**1. Compute a correlation matrix**"
      ]
    },
    {
      "cell_type": "code",
      "execution_count": null,
      "metadata": {
        "id": "CJQ3t_ottWFH",
        "outputId": "4f4eb12c-afae-4401-84b3-a2b01b0466dd"
      },
      "outputs": [
        {
          "data": {
            "text/html": [
              "<div>\n",
              "<style scoped>\n",
              "    .dataframe tbody tr th:only-of-type {\n",
              "        vertical-align: middle;\n",
              "    }\n",
              "\n",
              "    .dataframe tbody tr th {\n",
              "        vertical-align: top;\n",
              "    }\n",
              "\n",
              "    .dataframe thead th {\n",
              "        text-align: right;\n",
              "    }\n",
              "</style>\n",
              "<table border=\"1\" class=\"dataframe\">\n",
              "  <thead>\n",
              "    <tr style=\"text-align: right;\">\n",
              "      <th></th>\n",
              "      <th>amount</th>\n",
              "      <th>longitude_of_pickup</th>\n",
              "      <th>latitude_of_pickup</th>\n",
              "      <th>longitude_of_dropoff</th>\n",
              "      <th>latitude_of_dropoff</th>\n",
              "      <th>no_of_passenger</th>\n",
              "      <th>hour</th>\n",
              "      <th>day</th>\n",
              "      <th>month</th>\n",
              "      <th>year</th>\n",
              "      <th>dayofweek</th>\n",
              "      <th>travel_dist_km</th>\n",
              "    </tr>\n",
              "  </thead>\n",
              "  <tbody>\n",
              "    <tr>\n",
              "      <th>amount</th>\n",
              "      <td>1.000000</td>\n",
              "      <td>0.005905</td>\n",
              "      <td>-0.006563</td>\n",
              "      <td>0.004452</td>\n",
              "      <td>-0.005600</td>\n",
              "      <td>0.016506</td>\n",
              "      <td>-0.022009</td>\n",
              "      <td>-0.001417</td>\n",
              "      <td>0.026742</td>\n",
              "      <td>0.121081</td>\n",
              "      <td>0.000542</td>\n",
              "      <td>0.016451</td>\n",
              "    </tr>\n",
              "    <tr>\n",
              "      <th>longitude_of_pickup</th>\n",
              "      <td>0.005905</td>\n",
              "      <td>1.000000</td>\n",
              "      <td>-0.984132</td>\n",
              "      <td>0.956613</td>\n",
              "      <td>-0.947401</td>\n",
              "      <td>-0.005614</td>\n",
              "      <td>0.004913</td>\n",
              "      <td>0.006008</td>\n",
              "      <td>0.000402</td>\n",
              "      <td>-0.001264</td>\n",
              "      <td>-0.003224</td>\n",
              "      <td>0.143712</td>\n",
              "    </tr>\n",
              "    <tr>\n",
              "      <th>latitude_of_pickup</th>\n",
              "      <td>-0.006563</td>\n",
              "      <td>-0.984132</td>\n",
              "      <td>1.000000</td>\n",
              "      <td>-0.943741</td>\n",
              "      <td>0.961374</td>\n",
              "      <td>0.003982</td>\n",
              "      <td>-0.004313</td>\n",
              "      <td>-0.008884</td>\n",
              "      <td>0.000498</td>\n",
              "      <td>-0.000925</td>\n",
              "      <td>0.001911</td>\n",
              "      <td>-0.130943</td>\n",
              "    </tr>\n",
              "    <tr>\n",
              "      <th>longitude_of_dropoff</th>\n",
              "      <td>0.004452</td>\n",
              "      <td>0.956613</td>\n",
              "      <td>-0.943741</td>\n",
              "      <td>1.000000</td>\n",
              "      <td>-0.982102</td>\n",
              "      <td>-0.004874</td>\n",
              "      <td>0.005506</td>\n",
              "      <td>0.005221</td>\n",
              "      <td>0.001322</td>\n",
              "      <td>-0.000327</td>\n",
              "      <td>-0.002441</td>\n",
              "      <td>0.143172</td>\n",
              "    </tr>\n",
              "    <tr>\n",
              "      <th>latitude_of_dropoff</th>\n",
              "      <td>-0.005600</td>\n",
              "      <td>-0.947401</td>\n",
              "      <td>0.961374</td>\n",
              "      <td>-0.982102</td>\n",
              "      <td>1.000000</td>\n",
              "      <td>0.002898</td>\n",
              "      <td>-0.004530</td>\n",
              "      <td>-0.008012</td>\n",
              "      <td>-0.000341</td>\n",
              "      <td>-0.001817</td>\n",
              "      <td>0.001626</td>\n",
              "      <td>-0.124844</td>\n",
              "    </tr>\n",
              "    <tr>\n",
              "      <th>no_of_passenger</th>\n",
              "      <td>0.016506</td>\n",
              "      <td>-0.005614</td>\n",
              "      <td>0.003982</td>\n",
              "      <td>-0.004874</td>\n",
              "      <td>0.002898</td>\n",
              "      <td>1.000000</td>\n",
              "      <td>0.011400</td>\n",
              "      <td>0.006787</td>\n",
              "      <td>0.009099</td>\n",
              "      <td>0.006385</td>\n",
              "      <td>0.038581</td>\n",
              "      <td>-0.005371</td>\n",
              "    </tr>\n",
              "    <tr>\n",
              "      <th>hour</th>\n",
              "      <td>-0.022009</td>\n",
              "      <td>0.004913</td>\n",
              "      <td>-0.004313</td>\n",
              "      <td>0.005506</td>\n",
              "      <td>-0.004530</td>\n",
              "      <td>0.011400</td>\n",
              "      <td>1.000000</td>\n",
              "      <td>-0.008192</td>\n",
              "      <td>-0.001916</td>\n",
              "      <td>0.004167</td>\n",
              "      <td>-0.091267</td>\n",
              "      <td>0.000644</td>\n",
              "    </tr>\n",
              "    <tr>\n",
              "      <th>day</th>\n",
              "      <td>-0.001417</td>\n",
              "      <td>0.006008</td>\n",
              "      <td>-0.008884</td>\n",
              "      <td>0.005221</td>\n",
              "      <td>-0.008012</td>\n",
              "      <td>0.006787</td>\n",
              "      <td>-0.008192</td>\n",
              "      <td>1.000000</td>\n",
              "      <td>-0.017266</td>\n",
              "      <td>-0.011155</td>\n",
              "      <td>0.008422</td>\n",
              "      <td>0.010610</td>\n",
              "    </tr>\n",
              "    <tr>\n",
              "      <th>month</th>\n",
              "      <td>0.026742</td>\n",
              "      <td>0.000402</td>\n",
              "      <td>0.000498</td>\n",
              "      <td>0.001322</td>\n",
              "      <td>-0.000341</td>\n",
              "      <td>0.009099</td>\n",
              "      <td>-0.001916</td>\n",
              "      <td>-0.017266</td>\n",
              "      <td>1.000000</td>\n",
              "      <td>-0.115726</td>\n",
              "      <td>-0.010004</td>\n",
              "      <td>-0.009217</td>\n",
              "    </tr>\n",
              "    <tr>\n",
              "      <th>year</th>\n",
              "      <td>0.121081</td>\n",
              "      <td>-0.001264</td>\n",
              "      <td>-0.000925</td>\n",
              "      <td>-0.000327</td>\n",
              "      <td>-0.001817</td>\n",
              "      <td>0.006385</td>\n",
              "      <td>0.004167</td>\n",
              "      <td>-0.011155</td>\n",
              "      <td>-0.115726</td>\n",
              "      <td>1.000000</td>\n",
              "      <td>0.006808</td>\n",
              "      <td>0.022136</td>\n",
              "    </tr>\n",
              "    <tr>\n",
              "      <th>dayofweek</th>\n",
              "      <td>0.000542</td>\n",
              "      <td>-0.003224</td>\n",
              "      <td>0.001911</td>\n",
              "      <td>-0.002441</td>\n",
              "      <td>0.001626</td>\n",
              "      <td>0.038581</td>\n",
              "      <td>-0.091267</td>\n",
              "      <td>0.008422</td>\n",
              "      <td>-0.010004</td>\n",
              "      <td>0.006808</td>\n",
              "      <td>1.000000</td>\n",
              "      <td>-0.000518</td>\n",
              "    </tr>\n",
              "    <tr>\n",
              "      <th>travel_dist_km</th>\n",
              "      <td>0.016451</td>\n",
              "      <td>0.143712</td>\n",
              "      <td>-0.130943</td>\n",
              "      <td>0.143172</td>\n",
              "      <td>-0.124844</td>\n",
              "      <td>-0.005371</td>\n",
              "      <td>0.000644</td>\n",
              "      <td>0.010610</td>\n",
              "      <td>-0.009217</td>\n",
              "      <td>0.022136</td>\n",
              "      <td>-0.000518</td>\n",
              "      <td>1.000000</td>\n",
              "    </tr>\n",
              "  </tbody>\n",
              "</table>\n",
              "</div>"
            ],
            "text/plain": [
              "                        amount  longitude_of_pickup  latitude_of_pickup  \\\n",
              "amount                1.000000             0.005905           -0.006563   \n",
              "longitude_of_pickup   0.005905             1.000000           -0.984132   \n",
              "latitude_of_pickup   -0.006563            -0.984132            1.000000   \n",
              "longitude_of_dropoff  0.004452             0.956613           -0.943741   \n",
              "latitude_of_dropoff  -0.005600            -0.947401            0.961374   \n",
              "no_of_passenger       0.016506            -0.005614            0.003982   \n",
              "hour                 -0.022009             0.004913           -0.004313   \n",
              "day                  -0.001417             0.006008           -0.008884   \n",
              "month                 0.026742             0.000402            0.000498   \n",
              "year                  0.121081            -0.001264           -0.000925   \n",
              "dayofweek             0.000542            -0.003224            0.001911   \n",
              "travel_dist_km        0.016451             0.143712           -0.130943   \n",
              "\n",
              "                      longitude_of_dropoff  latitude_of_dropoff  \\\n",
              "amount                            0.004452            -0.005600   \n",
              "longitude_of_pickup               0.956613            -0.947401   \n",
              "latitude_of_pickup               -0.943741             0.961374   \n",
              "longitude_of_dropoff              1.000000            -0.982102   \n",
              "latitude_of_dropoff              -0.982102             1.000000   \n",
              "no_of_passenger                  -0.004874             0.002898   \n",
              "hour                              0.005506            -0.004530   \n",
              "day                               0.005221            -0.008012   \n",
              "month                             0.001322            -0.000341   \n",
              "year                             -0.000327            -0.001817   \n",
              "dayofweek                        -0.002441             0.001626   \n",
              "travel_dist_km                    0.143172            -0.124844   \n",
              "\n",
              "                      no_of_passenger      hour       day     month      year  \\\n",
              "amount                       0.016506 -0.022009 -0.001417  0.026742  0.121081   \n",
              "longitude_of_pickup         -0.005614  0.004913  0.006008  0.000402 -0.001264   \n",
              "latitude_of_pickup           0.003982 -0.004313 -0.008884  0.000498 -0.000925   \n",
              "longitude_of_dropoff        -0.004874  0.005506  0.005221  0.001322 -0.000327   \n",
              "latitude_of_dropoff          0.002898 -0.004530 -0.008012 -0.000341 -0.001817   \n",
              "no_of_passenger              1.000000  0.011400  0.006787  0.009099  0.006385   \n",
              "hour                         0.011400  1.000000 -0.008192 -0.001916  0.004167   \n",
              "day                          0.006787 -0.008192  1.000000 -0.017266 -0.011155   \n",
              "month                        0.009099 -0.001916 -0.017266  1.000000 -0.115726   \n",
              "year                         0.006385  0.004167 -0.011155 -0.115726  1.000000   \n",
              "dayofweek                    0.038581 -0.091267  0.008422 -0.010004  0.006808   \n",
              "travel_dist_km              -0.005371  0.000644  0.010610 -0.009217  0.022136   \n",
              "\n",
              "                      dayofweek  travel_dist_km  \n",
              "amount                 0.000542        0.016451  \n",
              "longitude_of_pickup   -0.003224        0.143712  \n",
              "latitude_of_pickup     0.001911       -0.130943  \n",
              "longitude_of_dropoff  -0.002441        0.143172  \n",
              "latitude_of_dropoff    0.001626       -0.124844  \n",
              "no_of_passenger        0.038581       -0.005371  \n",
              "hour                  -0.091267        0.000644  \n",
              "day                    0.008422        0.010610  \n",
              "month                 -0.010004       -0.009217  \n",
              "year                   0.006808        0.022136  \n",
              "dayofweek              1.000000       -0.000518  \n",
              "travel_dist_km        -0.000518        1.000000  "
            ]
          },
          "execution_count": 27,
          "metadata": {},
          "output_type": "execute_result"
        }
      ],
      "source": [
        "# use the corr() function to generate the correlation matrix of the numeric variables\n",
        "corr = df_taxi.corr()\n",
        "\n",
        "# print the correlation matrix\n",
        "corr"
      ]
    },
    {
      "cell_type": "markdown",
      "metadata": {
        "id": "NuACFFAttWFH"
      },
      "source": [
        "**2. Plot the heatmap for the diagonal correlation matrix**"
      ]
    },
    {
      "cell_type": "markdown",
      "metadata": {
        "id": "HGN5cmxqtWFH"
      },
      "source": [
        "A correlation matrix is a symmetric matrix. Plot only the upper triangular entries using a heatmap."
      ]
    },
    {
      "cell_type": "code",
      "execution_count": null,
      "metadata": {
        "scrolled": false,
        "id": "vyR_1BCktWFH",
        "outputId": "3c956cfd-cc82-4282-9669-f7ccfdff1bd5"
      },
      "outputs": [
        {
          "data": {
            "image/png": "[encoded data removed]",
            "text/plain": [
              "<Figure size 2880x1440 with 2 Axes>"
            ]
          },
          "metadata": {
            "needs_background": "light"
          },
          "output_type": "display_data"
        }
      ],
      "source": [
        "# set the plot size\n",
        "# pass the required height and width to the parameter, 'figsize'  \n",
        "plt.figure(figsize = (40,20))\n",
        "\n",
        "# use 'mask' to plot a upper triangular correlation matrix \n",
        "# 'tril_indices_from' returns the indices for the lower-triangle of matrix\n",
        "# 'k = -1' consider the diagonal of the matrix\n",
        "#mask = np.zeros_like(corr)\n",
        "#mask[np.tril_indices_from(mask, k = -1)] = True\n",
        "\n",
        "# plot the heat map\n",
        "# corr: give the correlation matrix\n",
        "# cmap: color code used for plotting\n",
        "# vmax: gives a maximum range of values for the chart\n",
        "# vmin: gives a minimum range of values for the chart\n",
        "# annot: prints the correlation values in the chart\n",
        "# annot_kws: sets the font size of the annotation\n",
        "# mask: mask the upper traingular matrix values\n",
        "sns.heatmap(corr, cmap = 'RdYlGn', vmax = 1.0, vmin = -1.0, annot = True, annot_kws = {\"size\": 20})\n",
        "\n",
        "# set the size of x and y axes labels\n",
        "# set text size using 'fontsize'\n",
        "plt.xticks(fontsize = 12)\n",
        "plt.yticks(fontsize = 15)\n",
        "\n",
        "# display the plot\n",
        "plt.show()"
      ]
    },
    {
      "cell_type": "markdown",
      "metadata": {
        "id": "cXn9r8wotWFI"
      },
      "source": [
        "<table align=\"left\">\n",
        "    <tr>\n",
        "        <td width=\"8%\">\n",
        "            <img src=\"infer.png\">\n",
        "        </td>\n",
        "        <td>\n",
        "            <div align=\"left\", style=\"font-size:120%\">\n",
        "                <font color=\"#21618C\">\n",
        "                    <b>The diagonal entries are all '1' which represents the correlation of the variable with itself. The dark green squares represent the variables with strong positive correlation. The dark red squares represent the variables with strong negative correlation. \n",
        "                    </b>\n",
        "                </font>\n",
        "            </div>\n",
        "        </td>\n",
        "    </tr>\n",
        "</table>\n"
      ]
    },
    {
      "cell_type": "markdown",
      "metadata": {
        "id": "DnRaP2ietWFI"
      },
      "source": [
        "As the above correlation map is difficult to study. Create a heatmap that consider the variables with strong correlation."
      ]
    },
    {
      "cell_type": "code",
      "execution_count": null,
      "metadata": {
        "id": "6xwDrRB7tWFI",
        "outputId": "28c87d06-4450-4130-82b3-396fe8841f67"
      },
      "outputs": [
        {
          "data": {
            "image/png": "[encoded data removed]",
            "text/plain": [
              "<Figure size 3600x1440 with 2 Axes>"
            ]
          },
          "metadata": {
            "needs_background": "light"
          },
          "output_type": "display_data"
        }
      ],
      "source": [
        "# set figure size\n",
        "plt.figure(figsize=(50, 20))\n",
        "\n",
        "# plot the heat map\n",
        "# corr: give the correlation matrix\n",
        "# pass the condition to get the strong correlation between the variables\n",
        "# cmap: color code used for plotting\n",
        "# vmax: gives a maximum range of values for the chart\n",
        "# vmin: gives a minimum range of values for the chart\n",
        "# annot: prints the correlation values in the chart\n",
        "# annot_kws: sets the font size of the annotation\n",
        "#sns.set(font_scale=2)\n",
        "sns.heatmap(corr[(corr >= 0.7) | (corr <= -0.7)], cmap = 'RdYlGn', vmax = 1.0, vmin = -1.0, annot = True, \n",
        "            annot_kws={\"size\": 20})\n",
        "\n",
        "# set the size of x and y axes labels\n",
        "# set text size using 'fontsize'\n",
        "plt.xticks(fontsize = 15)\n",
        "plt.yticks(fontsize = 15)\n",
        "\n",
        "# display the plot\n",
        "plt.show()"
      ]
    },
    {
      "cell_type": "markdown",
      "metadata": {
        "id": "HozmJMrGtWFJ"
      },
      "source": [
        "<table align=\"left\">\n",
        "    <tr>\n",
        "        <td width=\"8%\">\n",
        "            <img src=\"infer.png\">\n",
        "        </td>\n",
        "        <td>\n",
        "            <div align=\"left\", style=\"font-size:120%\">\n",
        "                <font color=\"#21618C\">\n",
        "                    <b>The above plot shows that there is highest positive correlation (= 0.96) between the variables 'longitude_of_pickup' and 'longitude_of_dropoff'. Also there is strong positive correlation between the pair latitude_of_pickup and latitude_of_dropoff. These variables may be involved in multicollinearity.<br>\n",
        "                        Following variable pairs have strong negative correlation in the dataset(longitude_of_pickup,latitude_of_pickup), (latitude_of_dropoff,longitude_of_pickup),(longitude_of_dropoff,latitude_of_pickup) and (longitude_of_dropoff, latitude_of_dropoff).\n",
        "                    </b>\n",
        "                </font>\n",
        "            </div>\n",
        "        </td>\n",
        "    </tr>\n",
        "</table>\n"
      ]
    },
    {
      "cell_type": "markdown",
      "metadata": {
        "id": "pPwoQF_Hebod"
      },
      "source": [
        "<table align=\"left\">\n",
        "    <tr>\n",
        "        <td width=\"8%\">\n",
        "            <img src=\"quicktip.png\">\n",
        "        </td>\n",
        "        <td>\n",
        "            <div align=\"left\", style=\"font-size:120%\">\n",
        "                <font color=\"#21618C\">\n",
        "                    <b>Correlation does not imply causation. In other words, if two variables are correlated, it does not mean that one variable caused the other.</b>\n",
        "                </font>\n",
        "            </div>\n",
        "        </td>\n",
        "    </tr>\n",
        "</table>"
      ]
    },
    {
      "cell_type": "markdown",
      "metadata": {
        "id": "OET43huSeboe"
      },
      "source": [
        "<table align=\"left\">\n",
        "    <tr>\n",
        "        <td width=\"8%\">\n",
        "            <img src=\"alsoreadicon.png\">\n",
        "        </td>\n",
        "        <td>\n",
        "            <div align=\"left\", style=\"font-size:120%\">\n",
        "                <font color=\"#21618C\">\n",
        "                    <b>I love to know more:</b> <br><br>\n",
        "                    <a href=\"https://bit.ly/2PBvA8T\">Why correlation does not imply causation </a>\n",
        "                </font>\n",
        "            </div>\n",
        "        </td>\n",
        "    </tr>\n",
        "</table>\n",
        "\n"
      ]
    },
    {
      "cell_type": "markdown",
      "metadata": {
        "id": "Xi0J75QEtWFJ"
      },
      "source": [
        "<a id='EDA'></a>\n",
        "## 4.2 Exploratory Data Analysis"
      ]
    },
    {
      "cell_type": "markdown",
      "metadata": {
        "id": "Ba9OsWAqtWFJ"
      },
      "source": [
        "<a id='Peak'></a>\n",
        "### 4.2.1 Peak hours"
      ]
    },
    {
      "cell_type": "markdown",
      "metadata": {
        "id": "Rl79UtzLtWFJ"
      },
      "source": [
        "We will check for the business during the weekdays and weekends."
      ]
    },
    {
      "cell_type": "markdown",
      "metadata": {
        "id": "Nnic_CRPtWFK"
      },
      "source": [
        "<table align=\"left\">\n",
        "    <tr>\n",
        "        <td width=\"8%\">\n",
        "            <img src=\"todo.png\">\n",
        "        </td>\n",
        "        <td>\n",
        "            <div align=\"left\", style=\"font-size:120%\">\n",
        "                <font color=\"#21618C\">\n",
        "                    <b> We will check the peak hours during the following: <br><br>\n",
        "                        1. Weekdays <br>\n",
        "                        2. Weekends <br>\n",
        "                    </b>\n",
        "                </font>\n",
        "            </div>\n",
        "        </td>\n",
        "    </tr>\n",
        "</table>"
      ]
    },
    {
      "cell_type": "markdown",
      "metadata": {
        "id": "8vE5ZDpmtWFK"
      },
      "source": [
        "**1. Plot a countplot to check the peak hours during weekdays**"
      ]
    },
    {
      "cell_type": "markdown",
      "metadata": {
        "id": "0ELLFXXFtWFK"
      },
      "source": [
        "To plot a countplot, we use the `countplot()` from the seaborn library."
      ]
    },
    {
      "cell_type": "code",
      "execution_count": null,
      "metadata": {
        "id": "CyViFN8ttWFK",
        "outputId": "7a981b2f-1aeb-4ac2-a17e-de2cef094c13"
      },
      "outputs": [
        {
          "data": {
            "text/plain": [
              "<AxesSubplot:title={'center':'Taxi trips count during week days'}, xlabel='hour', ylabel='count'>"
            ]
          },
          "execution_count": 30,
          "metadata": {},
          "output_type": "execute_result"
        },
        {
          "data": {
            "image/png": "[encoded data removed]",
            "text/plain": [
              "<Figure size 1440x360 with 1 Axes>"
            ]
          },
          "metadata": {
            "needs_background": "light"
          },
          "output_type": "display_data"
        }
      ],
      "source": [
        "# Set the figure size, grid type and color palette along with appropraite titel for the plot\n",
        "plt.figure(figsize=(20,5))\n",
        "plt.title('Taxi trips count during week days')\n",
        "sns.set_style(\"white\")\n",
        "#plot the countplot for weekdays\n",
        "sns.countplot(x='hour', data=df_taxi.loc[(df_taxi.dayofweek >= 0) & (df_taxi.dayofweek <=4)],\n",
        "              palette='Set2')"
      ]
    },
    {
      "cell_type": "markdown",
      "metadata": {
        "id": "FZ5yvUhLtWFK"
      },
      "source": [
        "We see that during the weekdays the count of trips start to peak from 8 am and is highest at 9am. In the evening the peak is at 6pm and 7pm."
      ]
    },
    {
      "cell_type": "markdown",
      "metadata": {
        "id": "z9QcOgxUtWFL"
      },
      "source": [
        "**2. Plot a countplot to check the peak hours during weekends**"
      ]
    },
    {
      "cell_type": "code",
      "execution_count": null,
      "metadata": {
        "id": "740uLdtitWFL",
        "outputId": "e3c7fbbd-a430-4ab3-b66c-f939f399c5e5"
      },
      "outputs": [
        {
          "data": {
            "text/plain": [
              "<AxesSubplot:title={'center':'Taxi trips count during weekends'}, xlabel='hour', ylabel='count'>"
            ]
          },
          "execution_count": 31,
          "metadata": {},
          "output_type": "execute_result"
        },
        {
          "data": {
            "image/png": "[encoded data removed]",
            "text/plain": [
              "<Figure size 1440x360 with 1 Axes>"
            ]
          },
          "metadata": {},
          "output_type": "display_data"
        }
      ],
      "source": [
        "# Set the figure size, grid type and color palette along with appropraite titel for the plot\n",
        "plt.figure(figsize=(20,5))\n",
        "plt.title('Taxi trips count during weekends')\n",
        "sns.set_style(\"white\")\n",
        "#plot the countplot for weekends\n",
        "sns.countplot(x='hour', data=df_taxi.loc[(df_taxi.dayofweek >= 5) & (df_taxi.dayofweek <=6)], palette='Set2')"
      ]
    },
    {
      "cell_type": "markdown",
      "metadata": {
        "id": "yAryu_AOtWFL"
      },
      "source": [
        "We see that during the weekends the count of trips is high after 12 midnight to 3am to 4am. This pattern is different from the weekdays. In the evening the demand is almost evenly high after 6pm till late night except."
      ]
    },
    {
      "cell_type": "markdown",
      "metadata": {
        "id": "kNWxPuWXtWFL"
      },
      "source": [
        "<table align=\"left\">\n",
        "    <tr>\n",
        "        <td width=\"8%\">\n",
        "            <img src=\"infer.png\">\n",
        "        </td>\n",
        "        <td>\n",
        "            <div align=\"left\", style=\"font-size:120%\">\n",
        "                <font color=\"#21618C\">\n",
        "                    <b>From the above plot, we can notice that the pattern for demand of taxi is different for weekdays and weekends.</b>\n",
        "                </font>\n",
        "            </div>\n",
        "        </td>\n",
        "    </tr>\n",
        "</table>\n",
        "\n",
        "\n"
      ]
    },
    {
      "cell_type": "markdown",
      "metadata": {
        "id": "-NjL4CmktWFL"
      },
      "source": [
        "<a id='Mean_Fare'></a>\n",
        "### 4.2.2 Mean fare for each hour during weekdays and weekends"
      ]
    },
    {
      "cell_type": "markdown",
      "metadata": {
        "id": "W9tA0vwStWFM"
      },
      "source": [
        "We will check the mean fares for each hour during the weekdays and weekends."
      ]
    },
    {
      "cell_type": "markdown",
      "metadata": {
        "id": "nzYliVBItWFM"
      },
      "source": [
        "<table align=\"left\">\n",
        "    <tr>\n",
        "        <td width=\"8%\">\n",
        "            <img src=\"todo.png\">\n",
        "        </td>\n",
        "        <td>\n",
        "            <div align=\"left\", style=\"font-size:120%\">\n",
        "                <font color=\"#21618C\">\n",
        "                    <b> We will do the following: <br><br>\n",
        "                        1. Compute the mean hourly fare for weekdays and weekends <br>\n",
        "                        2. Plot the bar graph for the same <br>\n",
        "                    </b>\n",
        "                </font>\n",
        "            </div>\n",
        "        </td>\n",
        "    </tr>\n",
        "</table>"
      ]
    },
    {
      "cell_type": "markdown",
      "metadata": {
        "id": "kylhsmELtWFM"
      },
      "source": [
        "**1. Compute the hourly mean fare for weekdays and weekends**"
      ]
    },
    {
      "cell_type": "code",
      "execution_count": null,
      "metadata": {
        "id": "QruxpolMtWFM"
      },
      "outputs": [],
      "source": [
        "# Set the days in the dataset as week days and week ends\n",
        "week_days = df_taxi.loc[(df_taxi.dayofweek >= 0) & (df_taxi.dayofweek <= 4)]\n",
        "week_ends = df_taxi.loc[(df_taxi.dayofweek >= 5) & (df_taxi.dayofweek <= 6)]\n",
        "# compute the mean fare amount over the week day and week end.\n",
        "# use groupby('hour') to get the mean fare for each hour\n",
        "# to_frame() function is used to convert the given series object to a dataframe\n",
        "week_days_fare = week_days.groupby(['hour']).amount.mean().to_frame().reset_index()\n",
        "week_ends_fare = week_ends.groupby(['hour']).amount.mean().to_frame().reset_index()"
      ]
    },
    {
      "cell_type": "markdown",
      "metadata": {
        "id": "sH9wQXRytWFM"
      },
      "source": [
        "**2. Plot the mean fare**"
      ]
    },
    {
      "cell_type": "code",
      "execution_count": null,
      "metadata": {
        "id": "LcGqyor_tWFM",
        "outputId": "205c8f0f-26aa-49d9-cce6-10c5337a2b9b"
      },
      "outputs": [
        {
          "data": {
            "image/png": "[encoded data removed]",
            "text/plain": [
              "<Figure size 1440x720 with 1 Axes>"
            ]
          },
          "metadata": {},
          "output_type": "display_data"
        }
      ],
      "source": [
        "# hours\n",
        "x = np.array(week_days_fare.hour)\n",
        "# an array of week day fare \n",
        "y = np.array(week_days_fare.amount)\n",
        "# an array of week end fare\n",
        "z = np.array(week_ends_fare.amount)\n",
        "\n",
        "# Set the figure size, title, x and y labels\n",
        "plt.figure(figsize = (20,10))\n",
        "plt.title('Mean Fare Amount For Each Hour - Weekdays Vs Weekends')\n",
        "plt.xlabel('Hours')\n",
        "plt.ylabel('Mean Fare')\n",
        "# Pass the three integers. The value of these integer should be less that 10\n",
        "ax=plt.subplot(1,1,1)\n",
        "ax.bar(x-0.2, y, width=0.2, color='red', align='center', label = 'Weekdays')\n",
        "ax.bar(x, z, width=0.2, color='blue', align='center', label = 'Weekends')\n",
        "plt.xticks(range(0,24))\n",
        "plt.legend()\n",
        "plt.show()\n"
      ]
    },
    {
      "cell_type": "markdown",
      "metadata": {
        "id": "od-YwakntWFN"
      },
      "source": [
        "We notice that the mean fares for each hour are different for week days and week ends. Mean fare for weekdays during morning hours 6,7 and 8 is much less compared to weekends."
      ]
    },
    {
      "cell_type": "markdown",
      "metadata": {
        "id": "aRijQe0etWFN"
      },
      "source": [
        "<a id='Distribution'></a>\n",
        "### 4.2.3 Distribution of key numerical vairables"
      ]
    },
    {
      "cell_type": "markdown",
      "metadata": {
        "id": "TnGbyY6RtWFN"
      },
      "source": [
        "We will check the distribustion of 'travel_dist_km' and 'amount'"
      ]
    },
    {
      "cell_type": "markdown",
      "metadata": {
        "id": "CApevBlCtWFN"
      },
      "source": [
        "<table align=\"left\">\n",
        "    <tr>\n",
        "        <td width=\"8%\">\n",
        "            <img src=\"todo.png\">\n",
        "        </td>\n",
        "        <td>\n",
        "            <div align=\"left\", style=\"font-size:120%\">\n",
        "                <font color=\"#21618C\">\n",
        "                    <b> We will check the distribution of the following variables: <br><br>\n",
        "                        1. 'amount' <br>\n",
        "                        2. 'travel_dist_km' <br>\n",
        "                    </b>\n",
        "                </font>\n",
        "            </div>\n",
        "        </td>\n",
        "    </tr>\n",
        "</table>"
      ]
    },
    {
      "cell_type": "markdown",
      "metadata": {
        "id": "EMeKwI2QtWFO"
      },
      "source": [
        "**1. Distribution of fare 'amount'**"
      ]
    },
    {
      "cell_type": "code",
      "execution_count": null,
      "metadata": {
        "id": "NCk-EpHytWFO",
        "outputId": "f53066cf-7cb3-49bb-83c3-672e85b54a11"
      },
      "outputs": [
        {
          "data": {
            "image/png": "[encoded data removed]",
            "text/plain": [
              "<Figure size 1440x720 with 1 Axes>"
            ]
          },
          "metadata": {},
          "output_type": "display_data"
        }
      ],
      "source": [
        "plt.figure(figsize=(20,10))\n",
        "sns.set_style(\"darkgrid\")\n",
        "plt.title(\"Distribution of the fare amount\")\n",
        "plt.xlabel(\"Fare Amount\")\n",
        "plt.ylabel(\"Frequency\")\n",
        "plt.xlim(-10,20)\n",
        "plt.xticks(range(0,200,5))\n",
        "\n",
        "snsplot = sns.kdeplot(df_taxi.amount, shade=True)\n"
      ]
    },
    {
      "cell_type": "markdown",
      "metadata": {
        "id": "_h7e09_XtWFO"
      },
      "source": [
        "We can see that most the trips have a fare amount of 2 to 20 dollars. There are a few small peaks around 50 and 58 dollars as well."
      ]
    },
    {
      "cell_type": "markdown",
      "metadata": {
        "id": "sESpCb-ptWFO"
      },
      "source": [
        "**2. Distribustion of the travel distance in km**"
      ]
    },
    {
      "cell_type": "code",
      "execution_count": null,
      "metadata": {
        "id": "9AcSng8itWFO",
        "outputId": "92c435d0-025d-4da9-df3e-98a4c58918e4"
      },
      "outputs": [
        {
          "data": {
            "image/png": "[encoded data removed]",
            "text/plain": [
              "<Figure size 1440x720 with 1 Axes>"
            ]
          },
          "metadata": {},
          "output_type": "display_data"
        }
      ],
      "source": [
        "plt.figure(figsize = (20,10))\n",
        "sns.style = ('darkgrid')\n",
        "plt.title(\"Distribution of the trip distance\")\n",
        "plt.xlabel(\"Distance(Km)\")\n",
        "plt.ylabel(\"Frequency\")\n",
        "plt.xlim(-10, 200)\n",
        "plt.xticks(range(0,200,5))\n",
        "\n",
        "#Kdeplot is a Kernel Distribution Estimation Plot which depicts the probability density function of\n",
        "#the continuous or non-parametric data variables\n",
        "sns.plot = sns.kdeplot(df_taxi[df_taxi.travel_dist_km<600].travel_dist_km, shade=True)"
      ]
    },
    {
      "cell_type": "markdown",
      "metadata": {
        "id": "EwUOFqDFtWFP"
      },
      "source": [
        "We can see that most the trips have a travel distance of 2.5 km to 25 km. There are a few instances of 0 km as well."
      ]
    },
    {
      "cell_type": "markdown",
      "metadata": {
        "id": "C5GSjcdxtWFP"
      },
      "source": [
        "<table align=\"left\">\n",
        "    <tr>\n",
        "        <td width=\"8%\">\n",
        "            <img src=\"infer.png\">\n",
        "        </td>\n",
        "        <td>\n",
        "            <div align=\"left\", style=\"font-size:120%\">\n",
        "                <font color=\"#21618C\">\n",
        "                    <b>We have generated new features, removed redundant features and removed the outliers.\n",
        "<br>                    \n",
        "We now progress to build the model.\n",
        "</b>\n",
        "                </font>\n",
        "            </div>\n",
        "        </td>\n",
        "    </tr>\n",
        "</table>"
      ]
    },
    {
      "cell_type": "markdown",
      "metadata": {
        "id": "yAuOnIVrtWFP"
      },
      "source": [
        "<a id='Random_Forest'></a>\n",
        "# 5.  Random Forest"
      ]
    },
    {
      "cell_type": "markdown",
      "metadata": {
        "id": "Y0SBsYaPtWFP"
      },
      "source": [
        "It is an example of the `Bagging` technique. It constructs multiple decision trees on randomly selected data samples. We can use the bootstrap sampling method to select the random samples of the same size from the dataset to construct multiple trees."
      ]
    },
    {
      "cell_type": "markdown",
      "metadata": {
        "id": "8PdhlnoBtWFP"
      },
      "source": [
        "<a id='RF_Model'></a>\n",
        "## 5.1 Random Forest Model"
      ]
    },
    {
      "cell_type": "markdown",
      "metadata": {
        "id": "W50BGw7stWFP"
      },
      "source": [
        "In this section we build a model using random forest regressor."
      ]
    },
    {
      "cell_type": "markdown",
      "metadata": {
        "id": "pYssrlO-tWFQ"
      },
      "source": [
        "<table align=\"left\">\n",
        "    <tr>\n",
        "        <td width=\"8%\">\n",
        "            <img src=\"todo.png\">\n",
        "        </td>\n",
        "        <td>\n",
        "            <div align=\"left\", style=\"font-size:120%\">\n",
        "                <font color=\"#21618C\">\n",
        "                    <b>In order to build the model, we do the following: <br><br>\n",
        "                       1. Split the features and target into seperate data frames<br>\n",
        "                       2. Split the data into training and test sets<br>\n",
        "                       3. Build model<br>\n",
        "                       4. Predict the values using test set <br>\n",
        "                       5. Compute accuracy measures <br>\n",
        "                       6. Tabulate the results\n",
        "</b>\n",
        "                </font>\n",
        "            </div>\n",
        "        </td>\n",
        "    </tr>\n",
        "</table>\n"
      ]
    },
    {
      "cell_type": "markdown",
      "metadata": {
        "id": "iAY-S_TQtWFQ"
      },
      "source": [
        "**1. Split the data into features and target dataframes**"
      ]
    },
    {
      "cell_type": "markdown",
      "metadata": {
        "id": "9e1se1j9tWFQ"
      },
      "source": [
        "Store the amount variable which is the target variable, into y."
      ]
    },
    {
      "cell_type": "code",
      "execution_count": null,
      "metadata": {
        "id": "2lceALa5tWFQ"
      },
      "outputs": [],
      "source": [
        "# select only the target variable 'amount' and store it in dataframe 'y'\n",
        "y = pd.DataFrame(df_taxi['amount'])"
      ]
    },
    {
      "cell_type": "markdown",
      "metadata": {
        "id": "ZNDLYUGitWFQ"
      },
      "source": [
        "Now, use this 'y' as a target variable to build the classification models."
      ]
    },
    {
      "cell_type": "code",
      "execution_count": null,
      "metadata": {
        "id": "FDCMnm51tWFQ"
      },
      "outputs": [],
      "source": [
        "# use 'drop()' to remove the variable 'amount' from df_taxi\n",
        "# 'axis = 1' drops the corresponding column(s)\n",
        "X = df_taxi.drop('amount',axis = 1)"
      ]
    },
    {
      "cell_type": "code",
      "execution_count": null,
      "metadata": {
        "scrolled": true,
        "id": "81iVZoHrtWFR",
        "outputId": "6fd28dd3-3a2e-4fac-dabc-2b0f222a728b"
      },
      "outputs": [
        {
          "data": {
            "text/html": [
              "<div>\n",
              "<style scoped>\n",
              "    .dataframe tbody tr th:only-of-type {\n",
              "        vertical-align: middle;\n",
              "    }\n",
              "\n",
              "    .dataframe tbody tr th {\n",
              "        vertical-align: top;\n",
              "    }\n",
              "\n",
              "    .dataframe thead th {\n",
              "        text-align: right;\n",
              "    }\n",
              "</style>\n",
              "<table border=\"1\" class=\"dataframe\">\n",
              "  <thead>\n",
              "    <tr style=\"text-align: right;\">\n",
              "      <th></th>\n",
              "      <th>longitude_of_pickup</th>\n",
              "      <th>latitude_of_pickup</th>\n",
              "      <th>longitude_of_dropoff</th>\n",
              "      <th>latitude_of_dropoff</th>\n",
              "      <th>no_of_passenger</th>\n",
              "      <th>hour</th>\n",
              "      <th>day</th>\n",
              "      <th>month</th>\n",
              "      <th>year</th>\n",
              "      <th>dayofweek</th>\n",
              "      <th>travel_dist_km</th>\n",
              "    </tr>\n",
              "  </thead>\n",
              "  <tbody>\n",
              "    <tr>\n",
              "      <th>0</th>\n",
              "      <td>-73.844311</td>\n",
              "      <td>40.721319</td>\n",
              "      <td>-73.841610</td>\n",
              "      <td>40.712278</td>\n",
              "      <td>1</td>\n",
              "      <td>17</td>\n",
              "      <td>15</td>\n",
              "      <td>6</td>\n",
              "      <td>2009</td>\n",
              "      <td>0</td>\n",
              "      <td>1.030764</td>\n",
              "    </tr>\n",
              "    <tr>\n",
              "      <th>1</th>\n",
              "      <td>-74.016048</td>\n",
              "      <td>40.711303</td>\n",
              "      <td>-73.979268</td>\n",
              "      <td>40.782004</td>\n",
              "      <td>1</td>\n",
              "      <td>16</td>\n",
              "      <td>5</td>\n",
              "      <td>1</td>\n",
              "      <td>2010</td>\n",
              "      <td>1</td>\n",
              "      <td>8.450134</td>\n",
              "    </tr>\n",
              "    <tr>\n",
              "      <th>2</th>\n",
              "      <td>-73.982738</td>\n",
              "      <td>40.761270</td>\n",
              "      <td>-73.991242</td>\n",
              "      <td>40.750562</td>\n",
              "      <td>2</td>\n",
              "      <td>0</td>\n",
              "      <td>18</td>\n",
              "      <td>8</td>\n",
              "      <td>2011</td>\n",
              "      <td>3</td>\n",
              "      <td>1.389525</td>\n",
              "    </tr>\n",
              "    <tr>\n",
              "      <th>3</th>\n",
              "      <td>-73.987130</td>\n",
              "      <td>40.733143</td>\n",
              "      <td>-73.991567</td>\n",
              "      <td>40.758092</td>\n",
              "      <td>1</td>\n",
              "      <td>4</td>\n",
              "      <td>21</td>\n",
              "      <td>4</td>\n",
              "      <td>2012</td>\n",
              "      <td>5</td>\n",
              "      <td>2.799270</td>\n",
              "    </tr>\n",
              "    <tr>\n",
              "      <th>4</th>\n",
              "      <td>-73.968095</td>\n",
              "      <td>40.768008</td>\n",
              "      <td>-73.956655</td>\n",
              "      <td>40.783762</td>\n",
              "      <td>1</td>\n",
              "      <td>7</td>\n",
              "      <td>9</td>\n",
              "      <td>3</td>\n",
              "      <td>2010</td>\n",
              "      <td>1</td>\n",
              "      <td>1.999157</td>\n",
              "    </tr>\n",
              "  </tbody>\n",
              "</table>\n",
              "</div>"
            ],
            "text/plain": [
              "   longitude_of_pickup  latitude_of_pickup  longitude_of_dropoff  \\\n",
              "0           -73.844311           40.721319            -73.841610   \n",
              "1           -74.016048           40.711303            -73.979268   \n",
              "2           -73.982738           40.761270            -73.991242   \n",
              "3           -73.987130           40.733143            -73.991567   \n",
              "4           -73.968095           40.768008            -73.956655   \n",
              "\n",
              "   latitude_of_dropoff  no_of_passenger  hour  day  month  year  dayofweek  \\\n",
              "0            40.712278                1    17   15      6  2009          0   \n",
              "1            40.782004                1    16    5      1  2010          1   \n",
              "2            40.750562                2     0   18      8  2011          3   \n",
              "3            40.758092                1     4   21      4  2012          5   \n",
              "4            40.783762                1     7    9      3  2010          1   \n",
              "\n",
              "   travel_dist_km  \n",
              "0        1.030764  \n",
              "1        8.450134  \n",
              "2        1.389525  \n",
              "3        2.799270  \n",
              "4        1.999157  "
            ]
          },
          "execution_count": 38,
          "metadata": {},
          "output_type": "execute_result"
        }
      ],
      "source": [
        "X.head()"
      ]
    },
    {
      "cell_type": "markdown",
      "metadata": {
        "id": "RlQ9byoDtWFR"
      },
      "source": [
        "Use this 'X' as a set of predictors to build the model."
      ]
    },
    {
      "cell_type": "markdown",
      "metadata": {
        "id": "fZIcZt41tWFR"
      },
      "source": [
        "**2. Split the data into training and test sets**"
      ]
    },
    {
      "cell_type": "code",
      "execution_count": null,
      "metadata": {
        "id": "HR9r5gRJtWFR",
        "outputId": "ad3e0df2-3473-42dc-d916-ba9ba55769da"
      },
      "outputs": [
        {
          "name": "stdout",
          "output_type": "stream",
          "text": [
            "The shape of X_train is: (34992, 11)\n",
            "The shape of X_test is: (14997, 11)\n",
            "The shape of y_train is: (34992, 1)\n",
            "The shape of y_test is: (14997, 1)\n"
          ]
        }
      ],
      "source": [
        "\n",
        "# split data into train subset and test subset for predictor and target variables\n",
        "# 'test_size' returns the proportion of data to be included in the test set\n",
        "# set 'random_state' to generate the same dataset each time you run the code \n",
        "X_train, X_test, y_train, y_test = train_test_split(X, y, test_size = 0.3, random_state = 1)\n",
        "\n",
        "# check the dimensions of the train & test subset for \n",
        "# print dimension of predictors train set\n",
        "print(\"The shape of X_train is:\",X_train.shape)\n",
        "\n",
        "# print dimension of predictors test set\n",
        "print(\"The shape of X_test is:\",X_test.shape)\n",
        "\n",
        "# print dimension of target train set\n",
        "print(\"The shape of y_train is:\",y_train.shape)\n",
        "\n",
        "# print dimension of target test set\n",
        "print(\"The shape of y_test is:\",y_test.shape)"
      ]
    },
    {
      "cell_type": "markdown",
      "metadata": {
        "id": "m36WeEEmtWFR"
      },
      "source": [
        "**2. Build model using RandomForestRegressor**"
      ]
    },
    {
      "cell_type": "code",
      "execution_count": null,
      "metadata": {
        "scrolled": true,
        "id": "7-Eqq3xftWFS",
        "outputId": "6d9d9ad3-1379-4bf4-cc98-c61305fbf43c"
      },
      "outputs": [
        {
          "data": {
            "text/plain": [
              "RandomForestRegressor(random_state=10)"
            ]
          },
          "execution_count": 41,
          "metadata": {},
          "output_type": "execute_result"
        }
      ],
      "source": [
        "#intantiate the regressor\n",
        "rf_reg = RandomForestRegressor(n_estimators=100, random_state=10)\n",
        "\n",
        "# fit the regressor with training dataset\n",
        "rf_reg.fit(X_train, y_train)"
      ]
    },
    {
      "cell_type": "markdown",
      "metadata": {
        "id": "heFaYd3JtWFS"
      },
      "source": [
        "**3. Predict the values using test set**"
      ]
    },
    {
      "cell_type": "code",
      "execution_count": null,
      "metadata": {
        "id": "DtxmJpjhtWFS"
      },
      "outputs": [],
      "source": [
        "# predict the values on test dataset using predict()\n",
        "y_pred = rf_reg.predict(X_test)"
      ]
    },
    {
      "cell_type": "markdown",
      "metadata": {
        "id": "r7_HJWMltWFS"
      },
      "source": [
        "**4. Compute accuracy measures**\n",
        "\n",
        "Now we calculate accuray measures Root-mean-square-error (RMSE), R-squared and Adjusted R-squared."
      ]
    },
    {
      "cell_type": "code",
      "execution_count": null,
      "metadata": {
        "id": "Ztu4g1yBtWFT",
        "outputId": "c9d6b81a-4cd8-42d4-b848-760542bca9ca"
      },
      "outputs": [
        {
          "name": "stdout",
          "output_type": "stream",
          "text": [
            "Mean Absolute Error (MAE): 2.06849660066934\n",
            "Mean Squared Error (MSE): 19.606631425668667\n",
            "Root Mean Squared Error (RMSE): 4.427937604084848\n"
          ]
        }
      ],
      "source": [
        "# Calculate MAE\n",
        "# The mean absolute error represents the average of the absolute difference between the actual and the\n",
        "# predicted values in the dataset\n",
        "rf_reg_MAE = metrics.mean_absolute_error(y_test, y_pred)\n",
        "print('Mean Absolute Error (MAE):', rf_reg_MAE)\n",
        "\n",
        "# Calculate MSE\n",
        "# Mean Squared Error represents the difference between the original and predicted values which are \n",
        "# extracted by squaring the average difference over the dataset\n",
        "rf_reg_MSE = metrics.mean_squared_error(y_test, y_pred)\n",
        "print('Mean Squared Error (MSE):', rf_reg_MSE)\n",
        "\n",
        "# Calculate RMSE\n",
        "rf_reg_RMSE = np.sqrt(metrics.mean_squared_error(y_test, y_pred))\n",
        "print('Root Mean Squared Error (RMSE):', rf_reg_RMSE)"
      ]
    },
    {
      "cell_type": "markdown",
      "metadata": {
        "id": "Ms3cPB0KtWFT"
      },
      "source": [
        "**5. Tabulate the results**"
      ]
    },
    {
      "cell_type": "code",
      "execution_count": null,
      "metadata": {
        "id": "JRYhZdF8tWFT",
        "outputId": "1df2fd45-1043-46c3-bb6a-ce1df5d34b02"
      },
      "outputs": [
        {
          "data": {
            "text/html": [
              "<div>\n",
              "<style scoped>\n",
              "    .dataframe tbody tr th:only-of-type {\n",
              "        vertical-align: middle;\n",
              "    }\n",
              "\n",
              "    .dataframe tbody tr th {\n",
              "        vertical-align: top;\n",
              "    }\n",
              "\n",
              "    .dataframe thead th {\n",
              "        text-align: right;\n",
              "    }\n",
              "</style>\n",
              "<table border=\"1\" class=\"dataframe\">\n",
              "  <thead>\n",
              "    <tr style=\"text-align: right;\">\n",
              "      <th></th>\n",
              "      <th>Model</th>\n",
              "      <th>MAE</th>\n",
              "      <th>MSE</th>\n",
              "      <th>RMSE</th>\n",
              "    </tr>\n",
              "  </thead>\n",
              "  <tbody>\n",
              "    <tr>\n",
              "      <th>0</th>\n",
              "      <td>Random Forest</td>\n",
              "      <td>2.068497</td>\n",
              "      <td>19.606631</td>\n",
              "      <td>4.427938</td>\n",
              "    </tr>\n",
              "  </tbody>\n",
              "</table>\n",
              "</div>"
            ],
            "text/plain": [
              "            Model      MAE       MSE     RMSE\n",
              "0  Random Forest  2.068497 19.606631 4.427938"
            ]
          },
          "execution_count": 44,
          "metadata": {},
          "output_type": "execute_result"
        }
      ],
      "source": [
        "# create the result table for all accuracy scores\n",
        "# accuracy measures considered for model comparision are RMSE\n",
        "# create a list of column names\n",
        "cols = ['Model', 'MAE', 'MSE', 'RMSE']\n",
        "\n",
        "# create a empty dataframe of the colums\n",
        "# columns: specifies the columns to be selected\n",
        "result_tabulation = pd.DataFrame(columns = cols)\n",
        "\n",
        "# compile the required information\n",
        "rf_reg_metrics = pd.Series({'Model': \"Random Forest \",\n",
        "                     'MAE':rf_reg_MAE,\n",
        "                     'MSE': rf_reg_MSE,\n",
        "                     'RMSE': rf_reg_RMSE     \n",
        "                   })\n",
        "\n",
        "# append our result table using append()\n",
        "# ignore_index=True: does not use the index labels\n",
        "# python can only append a Series if ignore_index=True or if the Series has a name\n",
        "result_tabulation = result_tabulation.append(rf_reg_metrics, ignore_index = True)\n",
        "\n",
        "# print the result table\n",
        "result_tabulation"
      ]
    },
    {
      "cell_type": "markdown",
      "metadata": {
        "id": "5-6Iqa1BtWFT"
      },
      "source": [
        "<table align=\"left\">\n",
        "    <tr>\n",
        "        <td width=\"8%\">\n",
        "            <img src=\"todo.png\">\n",
        "        </td>\n",
        "        <td>\n",
        "            <div align=\"left\", style=\"font-size:120%\">\n",
        "                <font color=\"#21618C\">\n",
        "                    <b>Let us also take a look at building a random forest model with grid search.\n",
        "</b>\n",
        "                </font>\n",
        "            </div>\n",
        "        </td>\n",
        "    </tr>\n",
        "</table>"
      ]
    },
    {
      "cell_type": "markdown",
      "metadata": {
        "id": "cPf9wqY5tWFT"
      },
      "source": [
        "<a id='RF_CV'></a>\n",
        "## 5.2 Random Forest with GridSearchCV"
      ]
    },
    {
      "cell_type": "markdown",
      "metadata": {
        "id": "7EiwRju7tWFU"
      },
      "source": [
        "Now we show how a decision tree is optimized by cross-validation, which is done using the `GridSearchCV()` from sklearn library.\n",
        "\n",
        "The performance of the selected hyperparameters and trained model is then measured on the test set that was not used during the model building."
      ]
    },
    {
      "cell_type": "markdown",
      "metadata": {
        "id": "Mx4eBQUEtWFU"
      },
      "source": [
        "<table align=\"left\">\n",
        "    <tr>\n",
        "        <td width=\"8%\">\n",
        "            <img src=\"todo.png\">\n",
        "        </td>\n",
        "        <td>\n",
        "            <div align=\"left\", style=\"font-size:120%\">\n",
        "                <font color=\"#21618C\">\n",
        "                    <b> Now we build a random forest using the GridSearchCV. We start with our original data set gradually proceeding with our analysis<br><br>\n",
        "                        To build a Random Forest using GridSearchCV, we do the following:<br>\n",
        "                        1. Use GridSearch to obtain the optimal values of hyperparameters <br>\n",
        "                        2. Build the model using the hyperparameters obtained in step 1<br>\n",
        "                        3. Do predictions on the test set<br>\n",
        "                        4. Compute accuracy measures <br>\n",
        "                        5. Tabulate the results <br>                     \n",
        "                      </b>\n",
        "                </font>\n",
        "            </div>\n",
        "        </td>\n",
        "    </tr>\n",
        "</table>\n"
      ]
    },
    {
      "cell_type": "markdown",
      "metadata": {
        "id": "L4I8IqNytWFU"
      },
      "source": [
        "**1. Use GridSearch to obtain the optimal values of hyperparameters**"
      ]
    },
    {
      "cell_type": "code",
      "execution_count": null,
      "metadata": {
        "id": "Mx2ucw_btWFU"
      },
      "outputs": [],
      "source": [
        "# create a dictionary with hyperparameters and its values\n",
        "# pass the n_estimators \n",
        "# pass the list of values to 'min_samples_split' that assigns minimum number of samples to split an internal node\n",
        "# pass the list of values to 'max_depth' that assigns maximum depth of the tree\n",
        "# pass the list of values to 'min_samples_leaf' that assigns minimum number of samples required at the terminal/leaf node\n",
        "# pass the list of values to 'max_leaf_nodes' that assigns maximum number of leaf nodes in the tree\n",
        "tuned_paramaters = [{'n_estimators': [ 85, 100],\n",
        "                     'min_samples_split': [15,20],\n",
        "                     'max_depth': [8, 10]\n",
        "                     #'min_samples_leaf': [5,10],\n",
        "                     #'max_leaf_nodes': [10, 15]\n",
        "                    }]"
      ]
    },
    {
      "cell_type": "code",
      "execution_count": null,
      "metadata": {
        "id": "vPFCPX3rtWFV"
      },
      "outputs": [],
      "source": [
        "# instantiate the 'RandomForestRegressor' \n",
        "# pass the 'random_state' to obtain the same samples for each time you run the code\n",
        "rf_reg_CV= RandomForestRegressor(random_state = 10)\n",
        "\n",
        "# use GridSearchCV() to find the optimal value of the hyperparameters\n",
        "# n_estimator: pass the decision tree classifier model\n",
        "# param_grid: pass the list 'tuned_parameters'\n",
        "# cv: number of folds in k-fold i.e. here cv = 10\n",
        "grid = GridSearchCV(estimator = rf_reg_CV, param_grid = tuned_paramaters, cv = 10)\n",
        "\n",
        "# fit the model on X_train and y_train using fit()\n",
        "dt_grid = grid.fit(X_train, y_train)\n",
        "\n",
        "# get the best parameters\n",
        "print('Best parameters for random forest regressor: ', dt_grid.best_params_, '\\n')"
      ]
    },
    {
      "cell_type": "markdown",
      "metadata": {
        "id": "U0tkcko9tWFV"
      },
      "source": [
        "**2. Build the model using the hyperparameters obtained in step 1**"
      ]
    },
    {
      "cell_type": "code",
      "execution_count": null,
      "metadata": {
        "collapsed": true,
        "id": "nuu4A7S2tWFV"
      },
      "outputs": [],
      "source": [
        "# instantiate the 'RandomForestRegressor'\n",
        "# 'best_params_' returns the dictionary containing best parameter values and parameter name  \n",
        "# 'get()' returns the value of specified parameter\n",
        "# pass the 'random_state' to obtain the same samples for each time you run the code\n",
        "dt_grid_model = RandomForestRegressor(n_estimators = dt_grid.best_params_.get('n_estimators'),\n",
        "                                       max_depth = dt_grid.best_params_.get('max_depth'),\n",
        "                                       #max_leaf_nodes = dt_grid.best_params_.get('max_leaf_nodes'),\n",
        "                                       #min_samples_leaf = dt_grid.best_params_.get('min_samples_leaf'),\n",
        "                                       min_samples_split = dt_grid.best_params_.get('min_samples_split'),\n",
        "                                       random_state = 10)\n",
        "\n",
        "# use fit() to fit the model on the train set\n",
        "dt_grid_model = dt_grid_model.fit(X_train, y_train)"
      ]
    },
    {
      "cell_type": "markdown",
      "metadata": {
        "id": "XpzLtnJttWFV"
      },
      "source": [
        "**3. Predict the values using test set**"
      ]
    },
    {
      "cell_type": "code",
      "execution_count": null,
      "metadata": {
        "collapsed": true,
        "id": "R0jNP8XTtWFW"
      },
      "outputs": [],
      "source": [
        "# predict the class labels using 'X_test'\n",
        "y_pred = dt_grid_model.predict(X_test)"
      ]
    },
    {
      "cell_type": "markdown",
      "metadata": {
        "id": "j5xcr8untWFW"
      },
      "source": [
        "**4. Compute accuracy measures**\n",
        "\n",
        "Now we calculate accuray measures Root-mean-square-error (RMSE), R-squared and Adjusted R-squared."
      ]
    },
    {
      "cell_type": "code",
      "execution_count": null,
      "metadata": {
        "id": "MP2nzvTstWFW",
        "outputId": "2112f325-a7db-4d41-944a-0bab9aca4314"
      },
      "outputs": [
        {
          "name": "stdout",
          "output_type": "stream",
          "text": [
            "Mean Absolute Error (MAE): 2.108015582329935\n",
            "Mean Squared Error (MSE): 19.952915628853532\n",
            "Root Mean Squared Error (RMSE): 4.466868660354089\n"
          ]
        }
      ],
      "source": [
        "# calculate MAE\n",
        "rf_reg_CV_MAE = metrics.mean_absolute_error(y_test, y_pred)\n",
        "print('Mean Absolute Error (MAE):', rf_reg_CV_MAE)\n",
        "                                         \n",
        "# calculate MSE\n",
        "rf_reg_CV_MSE = metrics.mean_squared_error(y_test, y_pred)\n",
        "print('Mean Squared Error (MSE):', rf_reg_CV_MSE)\n",
        "                                         \n",
        "# calculate RMSE\n",
        "rf_reg_CV_RMSE = np.sqrt(metrics.mean_squared_error(y_test, y_pred))\n",
        "print('Root Mean Squared Error (RMSE):', rf_reg_CV_RMSE)"
      ]
    },
    {
      "cell_type": "markdown",
      "metadata": {
        "id": "FGgENfs2tWFW"
      },
      "source": [
        "**5. Tabulate the results**"
      ]
    },
    {
      "cell_type": "code",
      "execution_count": null,
      "metadata": {
        "id": "7p8dWyTVtWFX",
        "outputId": "78147adf-daa3-46f6-8342-b44292f04530"
      },
      "outputs": [
        {
          "data": {
            "text/html": [
              "<div>\n",
              "<style scoped>\n",
              "    .dataframe tbody tr th:only-of-type {\n",
              "        vertical-align: middle;\n",
              "    }\n",
              "\n",
              "    .dataframe tbody tr th {\n",
              "        vertical-align: top;\n",
              "    }\n",
              "\n",
              "    .dataframe thead th {\n",
              "        text-align: right;\n",
              "    }\n",
              "</style>\n",
              "<table border=\"1\" class=\"dataframe\">\n",
              "  <thead>\n",
              "    <tr style=\"text-align: right;\">\n",
              "      <th></th>\n",
              "      <th>Model</th>\n",
              "      <th>MAE</th>\n",
              "      <th>MSE</th>\n",
              "      <th>RMSE</th>\n",
              "    </tr>\n",
              "  </thead>\n",
              "  <tbody>\n",
              "    <tr>\n",
              "      <th>0</th>\n",
              "      <td>Random Forest</td>\n",
              "      <td>2.068623</td>\n",
              "      <td>19.590861</td>\n",
              "      <td>4.426156</td>\n",
              "    </tr>\n",
              "    <tr>\n",
              "      <th>1</th>\n",
              "      <td>Random Forest</td>\n",
              "      <td>2.108016</td>\n",
              "      <td>19.952916</td>\n",
              "      <td>4.466869</td>\n",
              "    </tr>\n",
              "  </tbody>\n",
              "</table>\n",
              "</div>"
            ],
            "text/plain": [
              "            Model      MAE       MSE     RMSE\n",
              "0  Random Forest  2.068623 19.590861 4.426156\n",
              "1  Random Forest  2.108016 19.952916 4.466869"
            ]
          },
          "execution_count": 47,
          "metadata": {},
          "output_type": "execute_result"
        }
      ],
      "source": [
        "# create the result table for all accuracy scores\n",
        "# accuracy measures considered for model comparision are MAE, MSE, RMSE\n",
        "# create a list of column names\n",
        "#cols = ['Model', 'MAE', 'MSE', 'RMSE']\n",
        "\n",
        "# create a empty dataframe of the colums\n",
        "# columns: specifies the columns to be selected\n",
        "#result_tabulation = pd.DataFrame(columns = cols)\n",
        "\n",
        "# compile the required information\n",
        "rf_reg_metrics = pd.Series({'Model': \"Random Forest \",\n",
        "                     'MAE':rf_reg_CV_MAE,\n",
        "                     'MSE': rf_reg_CV_MSE,\n",
        "                     'RMSE': rf_reg_CV_RMSE     \n",
        "                   })\n",
        "\n",
        "# append our result table using append()\n",
        "# ignore_index=True: does not use the index labels\n",
        "# python can only append a Series if ignore_index=True or if the Series has a name\n",
        "result_tabulation = result_tabulation.append(rf_reg_metrics, ignore_index = True)\n",
        "\n",
        "# print the result table\n",
        "result_tabulation"
      ]
    },
    {
      "cell_type": "markdown",
      "metadata": {
        "id": "vaIy6xBdtWFX"
      },
      "source": [
        "<a id=\"conclusion\"> </a>\n",
        "# 6. Conclusion and Interpretation"
      ]
    },
    {
      "cell_type": "markdown",
      "metadata": {
        "id": "6mnYDW2ctWFX"
      },
      "source": [
        "<table align=\"left\">\n",
        "    <tr>\n",
        "        <td width=\"8%\">\n",
        "            <img src=\"infer.png\">\n",
        "        </td>\n",
        "        <td>\n",
        "            <div align=\"left\", style=\"font-size:120%\">\n",
        "                <font color=\"#21618C\">\n",
        "                    <b> The regression algorithms named in the above table have been implemented on the given dataset. The performance of the models were evaluated using MAE, MSE,RMSE. <br><br>\n",
        "                        The above result shows that the RMSE value for both the model is much less than the standard deviation of the 'amount' (target) variable. Both the models have performed well. We can further fine tune the model for various hyperparameter values.\n",
        "                    </b>\n",
        "                </font>\n",
        "            </div>\n",
        "        </td>\n",
        "    </tr>\n",
        "</table>"
      ]
    }
  ],
  "metadata": {
    "kernelspec": {
      "display_name": "Python 3 (ipykernel)",
      "language": "python",
      "name": "python3"
    },
    "language_info": {
      "codemirror_mode": {
        "name": "ipython",
        "version": 3
      },
      "file_extension": ".py",
      "mimetype": "text/x-python",
      "name": "python",
      "nbconvert_exporter": "python",
      "pygments_lexer": "ipython3",
      "version": "3.9.7"
    },
    "colab": {
      "provenance": []
    }
  },
  "nbformat": 4,
  "nbformat_minor": 0
}